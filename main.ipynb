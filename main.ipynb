{
 "cells": [
  {
   "cell_type": "code",
   "execution_count": 1,
   "id": "e17bd448",
   "metadata": {},
   "outputs": [],
   "source": [
    "import pandas as pd\n",
    "import numpy as np\n",
    "import matplotlib.pyplot as plt\n",
    "import seaborn as sns\n",
    "import nltk\n",
    "import re\n",
    "from sklearn.metrics import classification_report,confusion_matrix\n",
    "from sklearn.model_selection import train_test_split"
   ]
  },
  {
   "cell_type": "code",
   "execution_count": 2,
   "id": "a38efd5f",
   "metadata": {},
   "outputs": [],
   "source": [
    "import tensorflow as tf\n",
    "from tensorflow import keras\n",
    "from keras.preprocessing.text import Tokenizer"
   ]
  },
  {
   "cell_type": "markdown",
   "id": "042c2d32",
   "metadata": {},
   "source": [
    "# Read Dataset"
   ]
  },
  {
   "cell_type": "code",
   "execution_count": 3,
   "id": "138045c4",
   "metadata": {},
   "outputs": [],
   "source": [
    "import pandas as pd \n",
    "df = pd.read_csv(\"amazon_alexa.csv\")"
   ]
  },
  {
   "cell_type": "code",
   "execution_count": 4,
   "id": "c619c86a",
   "metadata": {},
   "outputs": [
    {
     "data": {
      "text/html": [
       "<div>\n",
       "<style scoped>\n",
       "    .dataframe tbody tr th:only-of-type {\n",
       "        vertical-align: middle;\n",
       "    }\n",
       "\n",
       "    .dataframe tbody tr th {\n",
       "        vertical-align: top;\n",
       "    }\n",
       "\n",
       "    .dataframe thead th {\n",
       "        text-align: right;\n",
       "    }\n",
       "</style>\n",
       "<table border=\"1\" class=\"dataframe\">\n",
       "  <thead>\n",
       "    <tr style=\"text-align: right;\">\n",
       "      <th></th>\n",
       "      <th>reviews</th>\n",
       "      <th>sentiment</th>\n",
       "    </tr>\n",
       "  </thead>\n",
       "  <tbody>\n",
       "    <tr>\n",
       "      <th>0</th>\n",
       "      <td>Love my Echo!</td>\n",
       "      <td>1</td>\n",
       "    </tr>\n",
       "    <tr>\n",
       "      <th>1</th>\n",
       "      <td>Loved it!</td>\n",
       "      <td>1</td>\n",
       "    </tr>\n",
       "    <tr>\n",
       "      <th>2</th>\n",
       "      <td>Sometimes while playing a game, you can answer...</td>\n",
       "      <td>1</td>\n",
       "    </tr>\n",
       "    <tr>\n",
       "      <th>3</th>\n",
       "      <td>I have had a lot of fun with this thing. My 4 ...</td>\n",
       "      <td>1</td>\n",
       "    </tr>\n",
       "    <tr>\n",
       "      <th>4</th>\n",
       "      <td>Music</td>\n",
       "      <td>1</td>\n",
       "    </tr>\n",
       "  </tbody>\n",
       "</table>\n",
       "</div>"
      ],
      "text/plain": [
       "                                             reviews  sentiment\n",
       "0                                      Love my Echo!          1\n",
       "1                                          Loved it!          1\n",
       "2  Sometimes while playing a game, you can answer...          1\n",
       "3  I have had a lot of fun with this thing. My 4 ...          1\n",
       "4                                              Music          1"
      ]
     },
     "execution_count": 4,
     "metadata": {},
     "output_type": "execute_result"
    }
   ],
   "source": [
    "df.head()"
   ]
  },
  {
   "cell_type": "markdown",
   "id": "9a4b478b",
   "metadata": {},
   "source": [
    "# Null values"
   ]
  },
  {
   "cell_type": "code",
   "execution_count": 5,
   "id": "c7a22f50",
   "metadata": {},
   "outputs": [
    {
     "data": {
      "text/plain": [
       "reviews      0\n",
       "sentiment    0\n",
       "dtype: int64"
      ]
     },
     "execution_count": 5,
     "metadata": {},
     "output_type": "execute_result"
    }
   ],
   "source": [
    "df.isnull().sum()"
   ]
  },
  {
   "cell_type": "code",
   "execution_count": 6,
   "id": "6203d30e",
   "metadata": {},
   "outputs": [
    {
     "data": {
      "image/png": "[encoded data removed]",
      "text/plain": [
       "<Figure size 640x480 with 1 Axes>"
      ]
     },
     "metadata": {},
     "output_type": "display_data"
    }
   ],
   "source": [
    "from collections import Counter\n",
    "\n",
    "cs = Counter(df['sentiment'])\n",
    "cs\n",
    "\n",
    "plt.bar(cs.keys() , cs.values())\n",
    "plt.xlabel('Sentiment')\n",
    "plt.ylabel('Frequency')\n",
    "plt.show()"
   ]
  },
  {
   "cell_type": "markdown",
   "id": "c7e14750",
   "metadata": {},
   "source": [
    "# Preprocessing"
   ]
  },
  {
   "cell_type": "code",
   "execution_count": 7,
   "id": "413cd540",
   "metadata": {},
   "outputs": [],
   "source": [
    "import nltk\n",
    "import re\n",
    "from nltk import word_tokenize\n",
    "from nltk.corpus import stopwords\n",
    "from nltk.stem.porter import PorterStemmer"
   ]
  },
  {
   "attachments": {},
   "cell_type": "markdown",
   "id": "2b5b04e1",
   "metadata": {},
   "source": [
    "Removing punctuations"
   ]
  },
  {
   "cell_type": "code",
   "execution_count": 8,
   "id": "c2b1de16",
   "metadata": {},
   "outputs": [],
   "source": [
    "#removing punctuations\n",
    "df.replace('[^a-zA-Z]', ' ',regex = True,inplace = True)"
   ]
  },
  {
   "cell_type": "code",
   "execution_count": 9,
   "id": "1c2ed58b",
   "metadata": {},
   "outputs": [
    {
     "data": {
      "text/html": [
       "<div>\n",
       "<style scoped>\n",
       "    .dataframe tbody tr th:only-of-type {\n",
       "        vertical-align: middle;\n",
       "    }\n",
       "\n",
       "    .dataframe tbody tr th {\n",
       "        vertical-align: top;\n",
       "    }\n",
       "\n",
       "    .dataframe thead th {\n",
       "        text-align: right;\n",
       "    }\n",
       "</style>\n",
       "<table border=\"1\" class=\"dataframe\">\n",
       "  <thead>\n",
       "    <tr style=\"text-align: right;\">\n",
       "      <th></th>\n",
       "      <th>reviews</th>\n",
       "      <th>sentiment</th>\n",
       "    </tr>\n",
       "  </thead>\n",
       "  <tbody>\n",
       "    <tr>\n",
       "      <th>0</th>\n",
       "      <td>Love my Echo</td>\n",
       "      <td>1</td>\n",
       "    </tr>\n",
       "    <tr>\n",
       "      <th>1</th>\n",
       "      <td>Loved it</td>\n",
       "      <td>1</td>\n",
       "    </tr>\n",
       "    <tr>\n",
       "      <th>2</th>\n",
       "      <td>Sometimes while playing a game  you can answer...</td>\n",
       "      <td>1</td>\n",
       "    </tr>\n",
       "    <tr>\n",
       "      <th>3</th>\n",
       "      <td>I have had a lot of fun with this thing  My   ...</td>\n",
       "      <td>1</td>\n",
       "    </tr>\n",
       "    <tr>\n",
       "      <th>4</th>\n",
       "      <td>Music</td>\n",
       "      <td>1</td>\n",
       "    </tr>\n",
       "  </tbody>\n",
       "</table>\n",
       "</div>"
      ],
      "text/plain": [
       "                                             reviews  sentiment\n",
       "0                                      Love my Echo           1\n",
       "1                                          Loved it           1\n",
       "2  Sometimes while playing a game  you can answer...          1\n",
       "3  I have had a lot of fun with this thing  My   ...          1\n",
       "4                                              Music          1"
      ]
     },
     "execution_count": 9,
     "metadata": {},
     "output_type": "execute_result"
    }
   ],
   "source": [
    "df.head()"
   ]
  },
  {
   "attachments": {},
   "cell_type": "markdown",
   "id": "5096db2e",
   "metadata": {},
   "source": [
    "Converting to lowercase"
   ]
  },
  {
   "cell_type": "code",
   "execution_count": 10,
   "id": "dfcb3f22",
   "metadata": {},
   "outputs": [],
   "source": [
    "#converting to lowercase\n",
    "df['reviews'] = df['reviews'].str.lower()"
   ]
  },
  {
   "cell_type": "code",
   "execution_count": 11,
   "id": "f2e3e2d2",
   "metadata": {
    "scrolled": true
   },
   "outputs": [],
   "source": [
    "#tokenization\n",
    "# revs = df['reviews']\n",
    "# for i in range (len(revs)):\n",
    "#     revs[i] = nltk.word_tokenize(df[\"reviews\"][i])\n",
    "# df['reviews']=revs "
   ]
  },
  {
   "attachments": {},
   "cell_type": "markdown",
   "id": "a6bf5777",
   "metadata": {},
   "source": [
    "Tokenization"
   ]
  },
  {
   "cell_type": "code",
   "execution_count": 12,
   "id": "91b2b17d",
   "metadata": {},
   "outputs": [],
   "source": [
    "# tokensization\n",
    "df['reviews'] = df['reviews'].apply(str.split)"
   ]
  },
  {
   "cell_type": "code",
   "execution_count": 13,
   "id": "a663889a",
   "metadata": {},
   "outputs": [
    {
     "data": {
      "text/plain": [
       "0                                        [love, my, echo]\n",
       "1                                             [loved, it]\n",
       "2       [sometimes, while, playing, a, game, you, can,...\n",
       "3       [i, have, had, a, lot, of, fun, with, this, th...\n",
       "4                                                 [music]\n",
       "                              ...                        \n",
       "3145    [perfect, for, kids, adults, and, everyone, in...\n",
       "3146    [listening, to, music, searching, locations, c...\n",
       "3147    [i, do, love, these, things, i, have, them, ru...\n",
       "3148    [only, complaint, i, have, is, that, the, soun...\n",
       "3149                                               [good]\n",
       "Name: reviews, Length: 3150, dtype: object"
      ]
     },
     "execution_count": 13,
     "metadata": {},
     "output_type": "execute_result"
    }
   ],
   "source": [
    "df['reviews']"
   ]
  },
  {
   "attachments": {},
   "cell_type": "markdown",
   "id": "3d169602",
   "metadata": {},
   "source": [
    "Removing Stopwords"
   ]
  },
  {
   "cell_type": "code",
   "execution_count": 14,
   "id": "410359a3",
   "metadata": {},
   "outputs": [],
   "source": [
    "# removing stopwords\n",
    "\n",
    "def removeStopwords(sentence) :\n",
    "    for word in sentence:\n",
    "        if word in stopwords.words('english'):\n",
    "            sentence.remove(word)\n",
    "    return sentence\n",
    "\n",
    "df['reviews'] = df['reviews'].apply(removeStopwords)"
   ]
  },
  {
   "cell_type": "code",
   "execution_count": 15,
   "id": "df216e80",
   "metadata": {},
   "outputs": [
    {
     "data": {
      "text/plain": [
       "0                                            [love, echo]\n",
       "1                                                 [loved]\n",
       "2       [sometimes, playing, game, can, answer, questi...\n",
       "3       [have, a, lot, fun, this, thing, yr, old, lear...\n",
       "4                                                 [music]\n",
       "                              ...                        \n",
       "3145           [perfect, kids, adults, everyone, between]\n",
       "3146    [listening, music, searching, locations, check...\n",
       "3147    [do, love, things, have, running, entire, home...\n",
       "3148    [complaint, sound, quality, great, mostly, use...\n",
       "3149                                               [good]\n",
       "Name: reviews, Length: 3150, dtype: object"
      ]
     },
     "execution_count": 15,
     "metadata": {},
     "output_type": "execute_result"
    }
   ],
   "source": [
    "df['reviews']"
   ]
  },
  {
   "attachments": {},
   "cell_type": "markdown",
   "id": "1a6665ef",
   "metadata": {},
   "source": [
    "Stemming"
   ]
  },
  {
   "cell_type": "code",
   "execution_count": 16,
   "id": "1e486092",
   "metadata": {},
   "outputs": [],
   "source": [
    "stemmer = PorterStemmer()\n",
    "for rev in df['reviews']:\n",
    "    for w in range (len(rev)):\n",
    "        rev[w] = stemmer.stem(rev[w])\n"
   ]
  },
  {
   "cell_type": "code",
   "execution_count": 17,
   "id": "ff20d7a9",
   "metadata": {},
   "outputs": [
    {
     "data": {
      "text/html": [
       "<div>\n",
       "<style scoped>\n",
       "    .dataframe tbody tr th:only-of-type {\n",
       "        vertical-align: middle;\n",
       "    }\n",
       "\n",
       "    .dataframe tbody tr th {\n",
       "        vertical-align: top;\n",
       "    }\n",
       "\n",
       "    .dataframe thead th {\n",
       "        text-align: right;\n",
       "    }\n",
       "</style>\n",
       "<table border=\"1\" class=\"dataframe\">\n",
       "  <thead>\n",
       "    <tr style=\"text-align: right;\">\n",
       "      <th></th>\n",
       "      <th>reviews</th>\n",
       "      <th>sentiment</th>\n",
       "    </tr>\n",
       "  </thead>\n",
       "  <tbody>\n",
       "    <tr>\n",
       "      <th>0</th>\n",
       "      <td>[love, echo]</td>\n",
       "      <td>1</td>\n",
       "    </tr>\n",
       "    <tr>\n",
       "      <th>1</th>\n",
       "      <td>[love]</td>\n",
       "      <td>1</td>\n",
       "    </tr>\n",
       "    <tr>\n",
       "      <th>2</th>\n",
       "      <td>[sometim, play, game, can, answer, question, c...</td>\n",
       "      <td>1</td>\n",
       "    </tr>\n",
       "    <tr>\n",
       "      <th>3</th>\n",
       "      <td>[have, a, lot, fun, thi, thing, yr, old, learn...</td>\n",
       "      <td>1</td>\n",
       "    </tr>\n",
       "    <tr>\n",
       "      <th>4</th>\n",
       "      <td>[music]</td>\n",
       "      <td>1</td>\n",
       "    </tr>\n",
       "  </tbody>\n",
       "</table>\n",
       "</div>"
      ],
      "text/plain": [
       "                                             reviews  sentiment\n",
       "0                                       [love, echo]          1\n",
       "1                                             [love]          1\n",
       "2  [sometim, play, game, can, answer, question, c...          1\n",
       "3  [have, a, lot, fun, thi, thing, yr, old, learn...          1\n",
       "4                                            [music]          1"
      ]
     },
     "execution_count": 17,
     "metadata": {},
     "output_type": "execute_result"
    }
   ],
   "source": [
    "df.head()"
   ]
  },
  {
   "attachments": {},
   "cell_type": "markdown",
   "id": "eb33fe80",
   "metadata": {},
   "source": [
    "# TF-IDF Vectorizer"
   ]
  },
  {
   "cell_type": "code",
   "execution_count": 18,
   "id": "37da45d9",
   "metadata": {},
   "outputs": [],
   "source": [
    "# tf-idf vectorizer\n",
    "from sklearn.feature_extraction.text import TfidfVectorizer\n",
    "\n",
    "vectorizer = TfidfVectorizer(analyzer=lambda x: x)\n",
    "X = vectorizer.fit_transform(df['reviews'])"
   ]
  },
  {
   "cell_type": "code",
   "execution_count": 19,
   "id": "2e245b9d",
   "metadata": {},
   "outputs": [
    {
     "name": "stdout",
     "output_type": "stream",
     "text": [
      "  (0, 783)\t0.7619854039818493\n",
      "  (0, 1491)\t0.6475941971007908\n",
      "  (1, 1491)\t1.0\n",
      "  (2, 1195)\t0.16356774320171538\n",
      "  (2, 206)\t0.24225832881528192\n",
      "  (2, 2813)\t0.2764300918542035\n",
      "  (2, 121)\t0.1515475233367924\n",
      "  (2, 1445)\t0.1770727915776274\n",
      "  (2, 2650)\t0.18509285672776352\n",
      "  (2, 5)\t0.18786712554370522\n",
      "  (2, 1449)\t0.12472869545250384\n",
      "  (2, 2879)\t0.16619315479969973\n",
      "  (2, 2133)\t0.25031810472270133\n",
      "  (2, 2859)\t0.26758677613745885\n",
      "  (2, 1073)\t0.17803712977390831\n",
      "  (2, 2144)\t0.18953752724918518\n",
      "  (2, 80)\t0.12211389825695419\n",
      "  (2, 556)\t0.28354488925317406\n",
      "  (2, 1975)\t0.1985120904784288\n",
      "  (2, 127)\t0.42401858363803346\n",
      "  (2, 378)\t0.15634624900180338\n",
      "  (2, 1027)\t0.23675522906825047\n",
      "  (2, 1867)\t0.14819226275775224\n",
      "  (2, 2324)\t0.228562151693322\n",
      "  (3, 2798)\t0.18024153171144294\n",
      "  :\t:\n",
      "  (3148, 2003)\t0.16343483410457552\n",
      "  (3148, 2468)\t0.13749568844868645\n",
      "  (3148, 490)\t0.1313820043853886\n",
      "  (3148, 2267)\t0.1393816473061278\n",
      "  (3148, 568)\t0.16120906774263188\n",
      "  (3148, 982)\t0.10694631864339908\n",
      "  (3148, 1519)\t0.1191481757496288\n",
      "  (3148, 2587)\t0.17879125873592527\n",
      "  (3148, 1230)\t0.14739206333573832\n",
      "  (3148, 2529)\t0.23598836598085918\n",
      "  (3148, 2530)\t0.06524052223032463\n",
      "  (3148, 1092)\t0.07119234895058864\n",
      "  (3148, 728)\t0.11322740378982071\n",
      "  (3148, 2715)\t0.07434706690028653\n",
      "  (3148, 2481)\t0.09644178797327574\n",
      "  (3148, 2354)\t0.09739527228870182\n",
      "  (3148, 126)\t0.12995567970748384\n",
      "  (3148, 1622)\t0.0808953025077565\n",
      "  (3148, 2340)\t0.08626448810526713\n",
      "  (3148, 2547)\t0.09849451560169417\n",
      "  (3148, 0)\t0.07933236185514436\n",
      "  (3148, 1142)\t0.1709622678329351\n",
      "  (3148, 1867)\t0.09675599735874163\n",
      "  (3148, 783)\t0.07328541696698275\n",
      "  (3149, 1069)\t1.0\n"
     ]
    }
   ],
   "source": [
    "print(X)"
   ]
  },
  {
   "cell_type": "code",
   "execution_count": 21,
   "id": "a8abfc63",
   "metadata": {},
   "outputs": [],
   "source": [
    "y = df['sentiment']"
   ]
  },
  {
   "cell_type": "code",
   "execution_count": 22,
   "id": "8433ac64",
   "metadata": {},
   "outputs": [
    {
     "data": {
      "text/plain": [
       "0       1\n",
       "1       1\n",
       "2       1\n",
       "3       1\n",
       "4       1\n",
       "       ..\n",
       "3145    1\n",
       "3146    1\n",
       "3147    1\n",
       "3148    1\n",
       "3149    1\n",
       "Name: sentiment, Length: 3150, dtype: int64"
      ]
     },
     "execution_count": 22,
     "metadata": {},
     "output_type": "execute_result"
    }
   ],
   "source": [
    "y"
   ]
  },
  {
   "cell_type": "code",
   "execution_count": 23,
   "id": "88ee61b5",
   "metadata": {},
   "outputs": [],
   "source": [
    "TEST_SIZE = 0.2\n",
    "\n",
    "X_train, X_test, y_train, y_test = train_test_split(X, y, test_size = TEST_SIZE, random_state = 0)\n"
   ]
  },
  {
   "attachments": {},
   "cell_type": "markdown",
   "id": "5766d547",
   "metadata": {},
   "source": [
    "# Machine Learning Models"
   ]
  },
  {
   "attachments": {},
   "cell_type": "markdown",
   "id": "e61ecd89",
   "metadata": {},
   "source": [
    "Multinomial Naive Bayes Classification"
   ]
  },
  {
   "cell_type": "code",
   "execution_count": 24,
   "id": "84268529",
   "metadata": {},
   "outputs": [
    {
     "name": "stdout",
     "output_type": "stream",
     "text": [
      "              precision    recall  f1-score   support\n",
      "\n",
      "           0       0.00      0.00      0.00        54\n",
      "           1       0.91      1.00      0.96       576\n",
      "\n",
      "    accuracy                           0.91       630\n",
      "   macro avg       0.46      0.50      0.48       630\n",
      "weighted avg       0.84      0.91      0.87       630\n",
      "\n"
     ]
    },
    {
     "name": "stderr",
     "output_type": "stream",
     "text": [
      "/Users/ha5hkat/miniconda3/envs/tfEnv/lib/python3.10/site-packages/sklearn/metrics/_classification.py:1344: UndefinedMetricWarning: Precision and F-score are ill-defined and being set to 0.0 in labels with no predicted samples. Use `zero_division` parameter to control this behavior.\n",
      "  _warn_prf(average, modifier, msg_start, len(result))\n",
      "/Users/ha5hkat/miniconda3/envs/tfEnv/lib/python3.10/site-packages/sklearn/metrics/_classification.py:1344: UndefinedMetricWarning: Precision and F-score are ill-defined and being set to 0.0 in labels with no predicted samples. Use `zero_division` parameter to control this behavior.\n",
      "  _warn_prf(average, modifier, msg_start, len(result))\n",
      "/Users/ha5hkat/miniconda3/envs/tfEnv/lib/python3.10/site-packages/sklearn/metrics/_classification.py:1344: UndefinedMetricWarning: Precision and F-score are ill-defined and being set to 0.0 in labels with no predicted samples. Use `zero_division` parameter to control this behavior.\n",
      "  _warn_prf(average, modifier, msg_start, len(result))\n"
     ]
    },
    {
     "data": {
      "image/png": "[encoded data removed]",
      "text/plain": [
       "<Figure size 640x480 with 2 Axes>"
      ]
     },
     "metadata": {},
     "output_type": "display_data"
    }
   ],
   "source": [
    "from sklearn.naive_bayes import MultinomialNB \n",
    "NB_classifier = MultinomialNB()\n",
    "NB_classifier.fit(X_train,y_train)\n",
    "\n",
    "nb_pred = NB_classifier.predict(X_test)\n",
    "\n",
    "cm = confusion_matrix(nb_pred, y_test)\n",
    "sns.heatmap(cm, annot = True)\n",
    "\n",
    "print(classification_report(y_test, nb_pred))"
   ]
  },
  {
   "cell_type": "code",
   "execution_count": null,
   "id": "7a33f034",
   "metadata": {},
   "outputs": [],
   "source": []
  },
  {
   "attachments": {},
   "cell_type": "markdown",
   "id": "14bad9f4",
   "metadata": {},
   "source": [
    "Logistic Regression\n"
   ]
  },
  {
   "cell_type": "code",
   "execution_count": 25,
   "id": "23d1feeb",
   "metadata": {},
   "outputs": [
    {
     "name": "stdout",
     "output_type": "stream",
     "text": [
      "              precision    recall  f1-score   support\n",
      "\n",
      "           0       1.00      0.02      0.04        54\n",
      "           1       0.92      1.00      0.96       576\n",
      "\n",
      "    accuracy                           0.92       630\n",
      "   macro avg       0.96      0.51      0.50       630\n",
      "weighted avg       0.92      0.92      0.88       630\n",
      "\n"
     ]
    },
    {
     "data": {
      "image/png": "[encoded data removed]",
      "text/plain": [
       "<Figure size 640x480 with 2 Axes>"
      ]
     },
     "metadata": {},
     "output_type": "display_data"
    }
   ],
   "source": [
    "from sklearn.linear_model import LogisticRegression\n",
    "\n",
    "model = LogisticRegression()\n",
    "model.fit(X_train, y_train)\n",
    "\n",
    "lr_pred = model.predict(X_test)\n",
    "\n",
    "cm = confusion_matrix(lr_pred, y_test)\n",
    "sns.heatmap(cm, annot = True)\n",
    "\n",
    "print(classification_report(y_test, lr_pred))"
   ]
  },
  {
   "attachments": {},
   "cell_type": "markdown",
   "id": "33c3c1cd",
   "metadata": {},
   "source": [
    "KNN"
   ]
  },
  {
   "cell_type": "code",
   "execution_count": 26,
   "id": "83ff62fe",
   "metadata": {},
   "outputs": [
    {
     "name": "stdout",
     "output_type": "stream",
     "text": [
      "              precision    recall  f1-score   support\n",
      "\n",
      "           0       1.00      0.20      0.34        54\n",
      "           1       0.93      1.00      0.96       576\n",
      "\n",
      "    accuracy                           0.93       630\n",
      "   macro avg       0.97      0.60      0.65       630\n",
      "weighted avg       0.94      0.93      0.91       630\n",
      "\n"
     ]
    },
    {
     "data": {
      "image/png": "[encoded data removed]",
      "text/plain": [
       "<Figure size 640x480 with 2 Axes>"
      ]
     },
     "metadata": {},
     "output_type": "display_data"
    }
   ],
   "source": [
    "from sklearn.neighbors import KNeighborsClassifier \n",
    "knn = KNeighborsClassifier()\n",
    "knn.fit(X_train,y_train)\n",
    "\n",
    "knn_pred = knn.predict(X_test)\n",
    "\n",
    "cm = confusion_matrix(knn_pred, y_test)\n",
    "sns.heatmap(cm, annot = True)\n",
    "\n",
    "print(classification_report(y_test, knn_pred))"
   ]
  },
  {
   "cell_type": "code",
   "execution_count": null,
   "id": "b65fd7bc",
   "metadata": {},
   "outputs": [],
   "source": []
  }
 ],
 "metadata": {
  "kernelspec": {
   "display_name": "tfEnv",
   "language": "python",
   "name": "python3"
  },
  "language_info": {
   "codemirror_mode": {
    "name": "ipython",
    "version": 3
   },
   "file_extension": ".py",
   "mimetype": "text/x-python",
   "name": "python",
   "nbconvert_exporter": "python",
   "pygments_lexer": "ipython3",
   "version": "3.10.8"
  },
  "vscode": {
   "interpreter": {
    "hash": "4d876c5bb35f184252b459e5b250e113208a4c46a2a8c23a0e8102fd40a28d3a"
   }
  }
 },
 "nbformat": 4,
 "nbformat_minor": 5
}
