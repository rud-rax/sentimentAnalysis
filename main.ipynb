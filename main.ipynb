{
 "cells": [
  {
   "cell_type": "code",
   "execution_count": 2,
   "id": "e17bd448",
   "metadata": {},
   "outputs": [],
   "source": [
    "import pandas as pd\n",
    "import numpy as np\n",
    "import matplotlib.pyplot as plt\n",
    "import seaborn as sns\n",
    "import nltk\n",
    "import re\n",
    "from sklearn.metrics import classification_report,confusion_matrix"
   ]
  },
  {
   "cell_type": "code",
   "execution_count": 1,
   "id": "a38efd5f",
   "metadata": {},
   "outputs": [],
   "source": [
    "import tensorflow as tf\n",
    "from tensorflow import keras\n",
    "from keras.preprocessing.text import Tokenizer"
   ]
  },
  {
   "cell_type": "markdown",
   "id": "042c2d32",
   "metadata": {},
   "source": [
    "# Read Dataset"
   ]
  },
  {
   "cell_type": "code",
   "execution_count": 3,
   "id": "138045c4",
   "metadata": {},
   "outputs": [],
   "source": [
    "import pandas as pd \n",
    "df = pd.read_csv(\"amazon_alexa.csv\")"
   ]
  },
  {
   "cell_type": "code",
   "execution_count": 4,
   "id": "c619c86a",
   "metadata": {},
   "outputs": [
    {
     "data": {
      "text/html": [
       "<div>\n",
       "<style scoped>\n",
       "    .dataframe tbody tr th:only-of-type {\n",
       "        vertical-align: middle;\n",
       "    }\n",
       "\n",
       "    .dataframe tbody tr th {\n",
       "        vertical-align: top;\n",
       "    }\n",
       "\n",
       "    .dataframe thead th {\n",
       "        text-align: right;\n",
       "    }\n",
       "</style>\n",
       "<table border=\"1\" class=\"dataframe\">\n",
       "  <thead>\n",
       "    <tr style=\"text-align: right;\">\n",
       "      <th></th>\n",
       "      <th>reviews</th>\n",
       "      <th>sentiment</th>\n",
       "    </tr>\n",
       "  </thead>\n",
       "  <tbody>\n",
       "    <tr>\n",
       "      <th>0</th>\n",
       "      <td>Love my Echo!</td>\n",
       "      <td>1</td>\n",
       "    </tr>\n",
       "    <tr>\n",
       "      <th>1</th>\n",
       "      <td>Loved it!</td>\n",
       "      <td>1</td>\n",
       "    </tr>\n",
       "    <tr>\n",
       "      <th>2</th>\n",
       "      <td>Sometimes while playing a game, you can answer...</td>\n",
       "      <td>1</td>\n",
       "    </tr>\n",
       "    <tr>\n",
       "      <th>3</th>\n",
       "      <td>I have had a lot of fun with this thing. My 4 ...</td>\n",
       "      <td>1</td>\n",
       "    </tr>\n",
       "    <tr>\n",
       "      <th>4</th>\n",
       "      <td>Music</td>\n",
       "      <td>1</td>\n",
       "    </tr>\n",
       "  </tbody>\n",
       "</table>\n",
       "</div>"
      ],
      "text/plain": [
       "                                             reviews  sentiment\n",
       "0                                      Love my Echo!          1\n",
       "1                                          Loved it!          1\n",
       "2  Sometimes while playing a game, you can answer...          1\n",
       "3  I have had a lot of fun with this thing. My 4 ...          1\n",
       "4                                              Music          1"
      ]
     },
     "execution_count": 4,
     "metadata": {},
     "output_type": "execute_result"
    }
   ],
   "source": [
    "df.head()"
   ]
  },
  {
   "cell_type": "markdown",
   "id": "9a4b478b",
   "metadata": {},
   "source": [
    "# Null values"
   ]
  },
  {
   "cell_type": "code",
   "execution_count": 5,
   "id": "c7a22f50",
   "metadata": {},
   "outputs": [
    {
     "data": {
      "text/plain": [
       "reviews      0\n",
       "sentiment    0\n",
       "dtype: int64"
      ]
     },
     "execution_count": 5,
     "metadata": {},
     "output_type": "execute_result"
    }
   ],
   "source": [
    "df.isnull().sum()"
   ]
  },
  {
   "cell_type": "markdown",
   "id": "c7e14750",
   "metadata": {},
   "source": [
    "# Preprocessing"
   ]
  },
  {
   "cell_type": "code",
   "execution_count": 6,
   "id": "413cd540",
   "metadata": {},
   "outputs": [],
   "source": [
    "import nltk\n",
    "import re\n",
    "from nltk import word_tokenize\n",
    "from nltk.corpus import stopwords\n",
    "from nltk.stem.porter import PorterStemmer"
   ]
  },
  {
   "cell_type": "code",
   "execution_count": 7,
   "id": "c2b1de16",
   "metadata": {},
   "outputs": [],
   "source": [
    "#removing punctuations\n",
    "df.replace('[^a-zA-Z]', ' ',regex = True,inplace = True)"
   ]
  },
  {
   "cell_type": "code",
   "execution_count": 8,
   "id": "1c2ed58b",
   "metadata": {},
   "outputs": [
    {
     "data": {
      "text/html": [
       "<div>\n",
       "<style scoped>\n",
       "    .dataframe tbody tr th:only-of-type {\n",
       "        vertical-align: middle;\n",
       "    }\n",
       "\n",
       "    .dataframe tbody tr th {\n",
       "        vertical-align: top;\n",
       "    }\n",
       "\n",
       "    .dataframe thead th {\n",
       "        text-align: right;\n",
       "    }\n",
       "</style>\n",
       "<table border=\"1\" class=\"dataframe\">\n",
       "  <thead>\n",
       "    <tr style=\"text-align: right;\">\n",
       "      <th></th>\n",
       "      <th>reviews</th>\n",
       "      <th>sentiment</th>\n",
       "    </tr>\n",
       "  </thead>\n",
       "  <tbody>\n",
       "    <tr>\n",
       "      <th>0</th>\n",
       "      <td>Love my Echo</td>\n",
       "      <td>1</td>\n",
       "    </tr>\n",
       "    <tr>\n",
       "      <th>1</th>\n",
       "      <td>Loved it</td>\n",
       "      <td>1</td>\n",
       "    </tr>\n",
       "    <tr>\n",
       "      <th>2</th>\n",
       "      <td>Sometimes while playing a game  you can answer...</td>\n",
       "      <td>1</td>\n",
       "    </tr>\n",
       "    <tr>\n",
       "      <th>3</th>\n",
       "      <td>I have had a lot of fun with this thing  My   ...</td>\n",
       "      <td>1</td>\n",
       "    </tr>\n",
       "    <tr>\n",
       "      <th>4</th>\n",
       "      <td>Music</td>\n",
       "      <td>1</td>\n",
       "    </tr>\n",
       "  </tbody>\n",
       "</table>\n",
       "</div>"
      ],
      "text/plain": [
       "                                             reviews  sentiment\n",
       "0                                      Love my Echo           1\n",
       "1                                          Loved it           1\n",
       "2  Sometimes while playing a game  you can answer...          1\n",
       "3  I have had a lot of fun with this thing  My   ...          1\n",
       "4                                              Music          1"
      ]
     },
     "execution_count": 8,
     "metadata": {},
     "output_type": "execute_result"
    }
   ],
   "source": [
    "df.head()"
   ]
  },
  {
   "cell_type": "code",
   "execution_count": 9,
   "id": "dfcb3f22",
   "metadata": {},
   "outputs": [],
   "source": [
    "#converting to lowercase\n",
    "df['reviews'] = df['reviews'].str.lower()"
   ]
  },
  {
   "cell_type": "code",
   "execution_count": 10,
   "id": "f2e3e2d2",
   "metadata": {
    "scrolled": true
   },
   "outputs": [
    {
     "ename": "LookupError",
     "evalue": "\n**********************************************************************\n  Resource \u001b[93mpunkt\u001b[0m not found.\n  Please use the NLTK Downloader to obtain the resource:\n\n  \u001b[31m>>> import nltk\n  >>> nltk.download('punkt')\n  \u001b[0m\n  For more information see: https://www.nltk.org/data.html\n\n  Attempted to load \u001b[93mtokenizers/punkt/PY3/english.pickle\u001b[0m\n\n  Searched in:\n    - '/Users/ha5hkat/nltk_data'\n    - '/Users/ha5hkat/miniconda3/envs/tfEnv/nltk_data'\n    - '/Users/ha5hkat/miniconda3/envs/tfEnv/share/nltk_data'\n    - '/Users/ha5hkat/miniconda3/envs/tfEnv/lib/nltk_data'\n    - '/usr/share/nltk_data'\n    - '/usr/local/share/nltk_data'\n    - '/usr/lib/nltk_data'\n    - '/usr/local/lib/nltk_data'\n    - ''\n**********************************************************************\n",
     "output_type": "error",
     "traceback": [
      "\u001b[0;31m---------------------------------------------------------------------------\u001b[0m",
      "\u001b[0;31mLookupError\u001b[0m                               Traceback (most recent call last)",
      "Cell \u001b[0;32mIn[10], line 4\u001b[0m\n\u001b[1;32m      2\u001b[0m revs \u001b[39m=\u001b[39m df[\u001b[39m'\u001b[39m\u001b[39mreviews\u001b[39m\u001b[39m'\u001b[39m]\n\u001b[1;32m      3\u001b[0m \u001b[39mfor\u001b[39;00m i \u001b[39min\u001b[39;00m \u001b[39mrange\u001b[39m (\u001b[39mlen\u001b[39m(revs)):\n\u001b[0;32m----> 4\u001b[0m     revs[i] \u001b[39m=\u001b[39m nltk\u001b[39m.\u001b[39;49mword_tokenize(df[\u001b[39m\"\u001b[39;49m\u001b[39mreviews\u001b[39;49m\u001b[39m\"\u001b[39;49m][i])\n\u001b[1;32m      5\u001b[0m df[\u001b[39m'\u001b[39m\u001b[39mreviews\u001b[39m\u001b[39m'\u001b[39m]\u001b[39m=\u001b[39mrevs \n",
      "File \u001b[0;32m~/miniconda3/envs/tfEnv/lib/python3.10/site-packages/nltk/tokenize/__init__.py:129\u001b[0m, in \u001b[0;36mword_tokenize\u001b[0;34m(text, language, preserve_line)\u001b[0m\n\u001b[1;32m    114\u001b[0m \u001b[39mdef\u001b[39;00m \u001b[39mword_tokenize\u001b[39m(text, language\u001b[39m=\u001b[39m\u001b[39m\"\u001b[39m\u001b[39menglish\u001b[39m\u001b[39m\"\u001b[39m, preserve_line\u001b[39m=\u001b[39m\u001b[39mFalse\u001b[39;00m):\n\u001b[1;32m    115\u001b[0m \u001b[39m    \u001b[39m\u001b[39m\"\"\"\u001b[39;00m\n\u001b[1;32m    116\u001b[0m \u001b[39m    Return a tokenized copy of *text*,\u001b[39;00m\n\u001b[1;32m    117\u001b[0m \u001b[39m    using NLTK's recommended word tokenizer\u001b[39;00m\n\u001b[0;32m   (...)\u001b[0m\n\u001b[1;32m    127\u001b[0m \u001b[39m    :type preserve_line: bool\u001b[39;00m\n\u001b[1;32m    128\u001b[0m \u001b[39m    \"\"\"\u001b[39;00m\n\u001b[0;32m--> 129\u001b[0m     sentences \u001b[39m=\u001b[39m [text] \u001b[39mif\u001b[39;00m preserve_line \u001b[39melse\u001b[39;00m sent_tokenize(text, language)\n\u001b[1;32m    130\u001b[0m     \u001b[39mreturn\u001b[39;00m [\n\u001b[1;32m    131\u001b[0m         token \u001b[39mfor\u001b[39;00m sent \u001b[39min\u001b[39;00m sentences \u001b[39mfor\u001b[39;00m token \u001b[39min\u001b[39;00m _treebank_word_tokenizer\u001b[39m.\u001b[39mtokenize(sent)\n\u001b[1;32m    132\u001b[0m     ]\n",
      "File \u001b[0;32m~/miniconda3/envs/tfEnv/lib/python3.10/site-packages/nltk/tokenize/__init__.py:106\u001b[0m, in \u001b[0;36msent_tokenize\u001b[0;34m(text, language)\u001b[0m\n\u001b[1;32m     96\u001b[0m \u001b[39mdef\u001b[39;00m \u001b[39msent_tokenize\u001b[39m(text, language\u001b[39m=\u001b[39m\u001b[39m\"\u001b[39m\u001b[39menglish\u001b[39m\u001b[39m\"\u001b[39m):\n\u001b[1;32m     97\u001b[0m \u001b[39m    \u001b[39m\u001b[39m\"\"\"\u001b[39;00m\n\u001b[1;32m     98\u001b[0m \u001b[39m    Return a sentence-tokenized copy of *text*,\u001b[39;00m\n\u001b[1;32m     99\u001b[0m \u001b[39m    using NLTK's recommended sentence tokenizer\u001b[39;00m\n\u001b[0;32m   (...)\u001b[0m\n\u001b[1;32m    104\u001b[0m \u001b[39m    :param language: the model name in the Punkt corpus\u001b[39;00m\n\u001b[1;32m    105\u001b[0m \u001b[39m    \"\"\"\u001b[39;00m\n\u001b[0;32m--> 106\u001b[0m     tokenizer \u001b[39m=\u001b[39m load(\u001b[39mf\u001b[39;49m\u001b[39m\"\u001b[39;49m\u001b[39mtokenizers/punkt/\u001b[39;49m\u001b[39m{\u001b[39;49;00mlanguage\u001b[39m}\u001b[39;49;00m\u001b[39m.pickle\u001b[39;49m\u001b[39m\"\u001b[39;49m)\n\u001b[1;32m    107\u001b[0m     \u001b[39mreturn\u001b[39;00m tokenizer\u001b[39m.\u001b[39mtokenize(text)\n",
      "File \u001b[0;32m~/miniconda3/envs/tfEnv/lib/python3.10/site-packages/nltk/data.py:750\u001b[0m, in \u001b[0;36mload\u001b[0;34m(resource_url, format, cache, verbose, logic_parser, fstruct_reader, encoding)\u001b[0m\n\u001b[1;32m    747\u001b[0m     \u001b[39mprint\u001b[39m(\u001b[39mf\u001b[39m\u001b[39m\"\u001b[39m\u001b[39m<<Loading \u001b[39m\u001b[39m{\u001b[39;00mresource_url\u001b[39m}\u001b[39;00m\u001b[39m>>\u001b[39m\u001b[39m\"\u001b[39m)\n\u001b[1;32m    749\u001b[0m \u001b[39m# Load the resource.\u001b[39;00m\n\u001b[0;32m--> 750\u001b[0m opened_resource \u001b[39m=\u001b[39m _open(resource_url)\n\u001b[1;32m    752\u001b[0m \u001b[39mif\u001b[39;00m \u001b[39mformat\u001b[39m \u001b[39m==\u001b[39m \u001b[39m\"\u001b[39m\u001b[39mraw\u001b[39m\u001b[39m\"\u001b[39m:\n\u001b[1;32m    753\u001b[0m     resource_val \u001b[39m=\u001b[39m opened_resource\u001b[39m.\u001b[39mread()\n",
      "File \u001b[0;32m~/miniconda3/envs/tfEnv/lib/python3.10/site-packages/nltk/data.py:876\u001b[0m, in \u001b[0;36m_open\u001b[0;34m(resource_url)\u001b[0m\n\u001b[1;32m    873\u001b[0m protocol, path_ \u001b[39m=\u001b[39m split_resource_url(resource_url)\n\u001b[1;32m    875\u001b[0m \u001b[39mif\u001b[39;00m protocol \u001b[39mis\u001b[39;00m \u001b[39mNone\u001b[39;00m \u001b[39mor\u001b[39;00m protocol\u001b[39m.\u001b[39mlower() \u001b[39m==\u001b[39m \u001b[39m\"\u001b[39m\u001b[39mnltk\u001b[39m\u001b[39m\"\u001b[39m:\n\u001b[0;32m--> 876\u001b[0m     \u001b[39mreturn\u001b[39;00m find(path_, path \u001b[39m+\u001b[39;49m [\u001b[39m\"\u001b[39;49m\u001b[39m\"\u001b[39;49m])\u001b[39m.\u001b[39mopen()\n\u001b[1;32m    877\u001b[0m \u001b[39melif\u001b[39;00m protocol\u001b[39m.\u001b[39mlower() \u001b[39m==\u001b[39m \u001b[39m\"\u001b[39m\u001b[39mfile\u001b[39m\u001b[39m\"\u001b[39m:\n\u001b[1;32m    878\u001b[0m     \u001b[39m# urllib might not use mode='rb', so handle this one ourselves:\u001b[39;00m\n\u001b[1;32m    879\u001b[0m     \u001b[39mreturn\u001b[39;00m find(path_, [\u001b[39m\"\u001b[39m\u001b[39m\"\u001b[39m])\u001b[39m.\u001b[39mopen()\n",
      "File \u001b[0;32m~/miniconda3/envs/tfEnv/lib/python3.10/site-packages/nltk/data.py:583\u001b[0m, in \u001b[0;36mfind\u001b[0;34m(resource_name, paths)\u001b[0m\n\u001b[1;32m    581\u001b[0m sep \u001b[39m=\u001b[39m \u001b[39m\"\u001b[39m\u001b[39m*\u001b[39m\u001b[39m\"\u001b[39m \u001b[39m*\u001b[39m \u001b[39m70\u001b[39m\n\u001b[1;32m    582\u001b[0m resource_not_found \u001b[39m=\u001b[39m \u001b[39mf\u001b[39m\u001b[39m\"\u001b[39m\u001b[39m\\n\u001b[39;00m\u001b[39m{\u001b[39;00msep\u001b[39m}\u001b[39;00m\u001b[39m\\n\u001b[39;00m\u001b[39m{\u001b[39;00mmsg\u001b[39m}\u001b[39;00m\u001b[39m\\n\u001b[39;00m\u001b[39m{\u001b[39;00msep\u001b[39m}\u001b[39;00m\u001b[39m\\n\u001b[39;00m\u001b[39m\"\u001b[39m\n\u001b[0;32m--> 583\u001b[0m \u001b[39mraise\u001b[39;00m \u001b[39mLookupError\u001b[39;00m(resource_not_found)\n",
      "\u001b[0;31mLookupError\u001b[0m: \n**********************************************************************\n  Resource \u001b[93mpunkt\u001b[0m not found.\n  Please use the NLTK Downloader to obtain the resource:\n\n  \u001b[31m>>> import nltk\n  >>> nltk.download('punkt')\n  \u001b[0m\n  For more information see: https://www.nltk.org/data.html\n\n  Attempted to load \u001b[93mtokenizers/punkt/PY3/english.pickle\u001b[0m\n\n  Searched in:\n    - '/Users/ha5hkat/nltk_data'\n    - '/Users/ha5hkat/miniconda3/envs/tfEnv/nltk_data'\n    - '/Users/ha5hkat/miniconda3/envs/tfEnv/share/nltk_data'\n    - '/Users/ha5hkat/miniconda3/envs/tfEnv/lib/nltk_data'\n    - '/usr/share/nltk_data'\n    - '/usr/local/share/nltk_data'\n    - '/usr/lib/nltk_data'\n    - '/usr/local/lib/nltk_data'\n    - ''\n**********************************************************************\n"
     ]
    }
   ],
   "source": [
    "#tokenization\n",
    "revs = df['reviews']\n",
    "for i in range (len(revs)):\n",
    "    revs[i] = nltk.word_tokenize(df[\"reviews\"][i])\n",
    "df['reviews']=revs "
   ]
  },
  {
   "cell_type": "code",
   "execution_count": 11,
   "id": "befc85d9",
   "metadata": {},
   "outputs": [
    {
     "data": {
      "text/plain": [
       "0                                           love my echo \n",
       "1                                               loved it \n",
       "2       sometimes while playing a game  you can answer...\n",
       "3       i have had a lot of fun with this thing  my   ...\n",
       "4                                                   music\n",
       "                              ...                        \n",
       "3145    perfect for kids  adults and everyone in betwe...\n",
       "3146    listening to music  searching locations  check...\n",
       "3147    i do love these things  i have them running my...\n",
       "3148    only complaint i have is that the sound qualit...\n",
       "3149                                                 good\n",
       "Name: reviews, Length: 3150, dtype: object"
      ]
     },
     "execution_count": 11,
     "metadata": {},
     "output_type": "execute_result"
    }
   ],
   "source": [
    "df['reviews']"
   ]
  },
  {
   "cell_type": "code",
   "execution_count": 12,
   "id": "c510140f",
   "metadata": {},
   "outputs": [
    {
     "name": "stdout",
     "output_type": "stream",
     "text": [
      "{'i': 1, 'the': 2, 'it': 3, 'to': 4, 'and': 5, 'a': 6, 'my': 7, 'is': 8, 'for': 9, 'love': 10, 'echo': 11, 'this': 12, 'with': 13, 'of': 14, 'have': 15, 'great': 16, 'that': 17, 'in': 18, 'but': 19, 't': 20, 'alexa': 21, 'on': 22, 'so': 23, 'can': 24, 'you': 25, 'music': 26, 'not': 27, 'like': 28, 'as': 29, 'up': 30, 'use': 31, 's': 32, 'we': 33, 'was': 34, 'works': 35, 'all': 36, 'one': 37, 'very': 38, 'easy': 39, 'sound': 40, 'be': 41, 'just': 42, 'more': 43, 'set': 44, 'when': 45, 'me': 46, 'dot': 47, 'do': 48, 'good': 49, 'an': 50, 'are': 51, 'or': 52, 'amazon': 53, 'product': 54, 'has': 55, 'get': 56, 'speaker': 57, 'if': 58, 'she': 59, 'm': 60, 'what': 61, 'would': 62, 'home': 63, 'play': 64, 'device': 65, 'had': 66, 'am': 67, 'from': 68, 'still': 69, 'our': 70, 'time': 71, 'really': 72, 'will': 73, 'bought': 74, 'at': 75, 'no': 76, 'smart': 77, 'other': 78, 'out': 79, 'new': 80, 'better': 81, 'than': 82, 'now': 83, 'much': 84, 'prime': 85, 'also': 86, 'quality': 87, 'well': 88, 'day': 89, 'fun': 90, 'work': 91, 'don': 92, 'show': 93, 'her': 94, 'does': 95, 'things': 96, 'only': 97, 'how': 98, 'far': 99, 'about': 100, 'off': 101, 'even': 102, 'got': 103, 'having': 104, 'devices': 105, 'room': 106, 'thing': 107, 'there': 108, 'they': 109, 'plus': 110, 'tv': 111, 'everything': 112, 'house': 113, 'which': 114, 'screen': 115, 'because': 116, 'alarm': 117, 'ask': 118, 'some': 119, 'any': 120, 'learning': 121, 'doesn': 122, 'need': 123, 'little': 124, 'them': 125, 'your': 126, 'buy': 127, 'able': 128, 'its': 129, 'weather': 130, 'want': 131, 'been': 132, 'could': 133, 'spot': 134, 'lights': 135, 'using': 136, 'voice': 137, 'clock': 138, 'nice': 139, 'hub': 140, 'turn': 141, 'used': 142, 'know': 143, 'video': 144, 'see': 145, 'price': 146, 'many': 147, 'too': 148, 'getting': 149, 'amazing': 150, 'phone': 151, 'light': 152, 'these': 153, 'another': 154, 'without': 155, 'think': 156, 'purchase': 157, 'by': 158, 'sounds': 159, 'listen': 160, 'bedroom': 161, 'app': 162, 'awesome': 163, 'best': 164, 'lot': 165, 'purchased': 166, 'setup': 167, 'first': 168, 'wish': 169, 'being': 170, 'control': 171, 'perfect': 172, 'two': 173, 'way': 174, 've': 175, 'connect': 176, 'playing': 177, 'working': 178, 'through': 179, 'then': 180, 'say': 181, 'while': 182, 'questions': 183, 'family': 184, 'features': 185, 'speakers': 186, 'tell': 187, 'make': 188, 'going': 189, 'every': 190, 'sure': 191, 'didn': 192, 'refurbished': 193, 'same': 194, 'did': 195, 'pretty': 196, 'over': 197, 'happy': 198, 'small': 199, 'dots': 200, 'volume': 201, 'kitchen': 202, 'etc': 203, 'after': 204, 'fire': 205, 'bluetooth': 206, 'expected': 207, 'size': 208, 'find': 209, 'item': 210, 'watch': 211, 'news': 212, 'times': 213, 'try': 214, 'connected': 215, 'stick': 216, 'though': 217, 'go': 218, 'listening': 219, 'few': 220, 'should': 221, 'google': 222, 'thought': 223, 'he': 224, 'why': 225, 'old': 226, 'gift': 227, 'hear': 228, 'haven': 229, 'fine': 230, 'cool': 231, 'something': 232, 'wanted': 233, 'around': 234, 'recommend': 235, 'yet': 236, 'original': 237, 'definitely': 238, 'loves': 239, 'enjoy': 240, 'feature': 241, 'commands': 242, 'radio': 243, 'shows': 244, 'made': 245, 'different': 246, 'money': 247, 'anything': 248, 'right': 249, 'back': 250, 'second': 251, 'add': 252, 'wifi': 253, 'worked': 254, 'into': 255, 'never': 256, 'enough': 257, 'songs': 258, 'since': 259, 'nd': 260, 'full': 261, 'makes': 262, 'issues': 263, 'loved': 264, 'information': 265, 'understand': 266, 'learn': 267, 're': 268, 'setting': 269, 'simple': 270, 'problems': 271, 'seems': 272, 'both': 273, 'own': 274, 'already': 275, 'sometimes': 276, 'most': 277, 'help': 278, 'take': 279, 'disappointed': 280, 'skills': 281, 'again': 282, 'trying': 283, 'big': 284, 'morning': 285, 'favorite': 286, 'call': 287, 'kids': 288, 'worth': 289, 'absolutely': 290, 'bulb': 291, 'who': 292, 'where': 293, 'generation': 294, 'night': 295, 'problem': 296, 'living': 297, 'come': 298, 'instructions': 299, 'fact': 300, 'part': 301, 'wake': 302, 'internet': 303, 'bulbs': 304, 'reason': 305, 'wife': 306, 'needs': 307, 'long': 308, 'apps': 309, 'youtube': 310, 'unit': 311, 'command': 312, 'always': 313, 'looks': 314, 'look': 315, 'won': 316, 'came': 317, 'asking': 318, 'built': 319, 'wonderful': 320, 'issue': 321, 'useful': 322, 'hue': 323, 'plays': 324, 'daughter': 325, 'list': 326, 'enjoying': 327, 'once': 328, 'us': 329, 'answer': 330, 'keep': 331, 'year': 332, 'song': 333, 'deal': 334, 'excellent': 335, 'addition': 336, 'access': 337, 'couldn': 338, 'son': 339, 'buying': 340, 'however': 341, 'clear': 342, 'easier': 343, 'thank': 344, 'super': 345, 'easily': 346, 'else': 347, 'stars': 348, 'looking': 349, 'talking': 350, 'system': 351, 'options': 352, 'added': 353, 'away': 354, 'games': 355, 'almost': 356, 'forward': 357, 'technology': 358, 'read': 359, 'may': 360, 'pleased': 361, 'free': 362, 'alarms': 363, 'people': 364, 'especially': 365, 'cable': 366, 'give': 367, 'fast': 368, 'ring': 369, 'll': 370, 'bit': 371, 'done': 372, 'plug': 373, 'actually': 374, 'perfectly': 375, 'gen': 376, 'movies': 377, 'drop': 378, 'each': 379, 'their': 380, 'needed': 381, 'sleep': 382, 'd': 383, 'his': 384, 'said': 385, 'asked': 386, 'down': 387, 'gets': 388, 'trouble': 389, 'quite': 390, 'whole': 391, 'stuff': 392, 'before': 393, 'audio': 394, 'convenient': 395, 'says': 396, 'found': 397, 'echos': 398, 'computer': 399, 'spotify': 400, 'wasn': 401, 'husband': 402, 'must': 403, 'such': 404, 'minutes': 405, 'were': 406, 'respond': 407, 'life': 408, 'probably': 409, 'products': 410, 'install': 411, 'loud': 412, 'cannot': 413, 'couple': 414, 'adding': 415, 'hard': 416, 'capabilities': 417, 'tech': 418, 'tried': 419, 'tells': 420, 'impressed': 421, 'connection': 422, 'ease': 423, 'talk': 424, 'order': 425, 'isn': 426, 'updates': 427, 'glad': 428, 'white': 429, 'camera': 430, 'throughout': 431, 'instead': 432, 'overall': 433, 'rooms': 434, 'figure': 435, 'ever': 436, 'during': 437, 'soon': 438, 'bad': 439, 'user': 440, 'ability': 441, 'start': 442, 'months': 443, 'highly': 444, 'firestick': 445, 'lists': 446, 'multiple': 447, 'available': 448, 'videos': 449, 'next': 450, 'timers': 451, 'live': 452, 'timer': 453, 'nothing': 454, 'days': 455, 'uses': 456, 'difference': 457, 'support': 458, 'sale': 459, 'helpful': 460, 'calls': 461, 'plugged': 462, 'week': 463, 'office': 464, 'watching': 465, 'along': 466, 'daily': 467, 'feel': 468, 'less': 469, 'remote': 470, 'gives': 471, 'several': 472, 'bass': 473, 'books': 474, 'put': 475, 'gave': 476, 'went': 477, 'took': 478, 'lyrics': 479, 'received': 480, 'household': 481, 'pay': 482, 'power': 483, 'exactly': 484, 'check': 485, 'myself': 486, 'half': 487, 'change': 488, 'wouldn': 489, 'lots': 490, 'mostly': 491, 'brand': 492, 'friend': 493, 'goes': 494, 'answers': 495, 'reminders': 496, 'assistant': 497, 'apple': 498, 'thermostat': 499, 'paid': 500, 'extra': 501, 'started': 502, 'shopping': 503, 'decided': 504, 'program': 505, 'handy': 506, 'weeks': 507, 'hours': 508, 'option': 509, 'functionality': 510, 'ones': 511, 'star': 512, 'netflix': 513, 'chat': 514, 'cameras': 515, 'philips': 516, 'response': 517, 'top': 518, 'advertised': 519, 'keeps': 520, 'here': 521, 'satisfied': 522, 'account': 523, 'pandora': 524, 'huge': 525, 'bose': 526, 'touch': 527, 'loving': 528, 'friendly': 529, 'blue': 530, 'future': 531, 'smaller': 532, 'movie': 533, 'turns': 534, 'often': 535, 'stand': 536, 'lol': 537, 'bed': 538, 'door': 539, 'display': 540, 'regular': 541, 'recipes': 542, 'wait': 543, 'heard': 544, 'liked': 545, 'st': 546, 'mainly': 547, 'package': 548, 'fantastic': 549, 'limited': 550, 'hooked': 551, 'personal': 552, 'doing': 553, 'surprised': 554, 'request': 555, 'service': 556, 'someone': 557, 'told': 558, 'return': 559, 'link': 560, 'security': 561, 'alone': 562, 'excited': 563, 'download': 564, 'basic': 565, 'group': 566, 'speak': 567, 'hoping': 568, 'additional': 569, 'those': 570, 'everyone': 571, 'annoying': 572, 'audible': 573, 'let': 574, 'external': 575, 'piece': 576, 'responds': 577, 'figured': 578, 'cord': 579, 'louder': 580, 'ordered': 581, 'ok': 582, 'nightstand': 583, 'bedside': 584, 'face': 585, 'although': 586, 'question': 587, 'wrong': 588, 'mother': 589, 'included': 590, 'number': 591, 'real': 592, 'him': 593, 'thanks': 594, 'played': 595, 'playlist': 596, 'responsive': 597, 'terrible': 598, 'making': 599, 'job': 600, 'three': 601, 'quick': 602, 'ready': 603, 'connecting': 604, 'plugs': 605, 'value': 606, 'mom': 607, 'jokes': 608, 'unless': 609, 'extremely': 610, 'totally': 611, 'experience': 612, 'mini': 613, 'longer': 614, 'rd': 615, 'finally': 616, 'via': 617, 'u': 618, 'seem': 619, 'buttons': 620, 'cell': 621, 'friends': 622, 'name': 623, 'stations': 624, 'plan': 625, 'functions': 626, 'except': 627, 'kind': 628, 'words': 629, 'stopped': 630, 'stop': 631, 'entertainment': 632, 'later': 633, 'checking': 634, 'complaints': 635, 'range': 636, 'third': 637, 'channels': 638, 'fix': 639, 'supposed': 640, 'least': 641, 'low': 642, 'items': 643, 'constantly': 644, 'toy': 645, 'miss': 646, 'difficult': 647, 'programs': 648, 'flash': 649, 'briefing': 650, 'frustrating': 651, 'immediately': 652, 'birthday': 653, 'sync': 654, 'base': 655, 'lamp': 656, 'comes': 657, 'battery': 658, 'wireless': 659, 'across': 660, 'streaming': 661, 'process': 662, 'settings': 663, 'high': 664, 'regret': 665, 'replace': 666, 'tooth': 667, 'quickly': 668, 'yes': 669, 'step': 670, 'might': 671, 'update': 672, 'helps': 673, 'useless': 674, 'box': 675, 'rather': 676, 'years': 677, 'skill': 678, 'picture': 679, 'sent': 680, 'understands': 681, 'saying': 682, 'purchasing': 683, 'cheap': 684, 'running': 685, 'siri': 686, 'others': 687, 'alexia': 688, 'thinking': 689, 'traffic': 690, 'within': 691, 'outside': 692, 'fault': 693, 'info': 694, 'clearly': 695, 'dislike': 696, 'older': 697, 'today': 698, 'until': 699, 'fan': 700, 'given': 701, 'turned': 702, 'upstairs': 703, 'last': 704, 'parents': 705, 'between': 706, 'error': 707, 'station': 708, 'takes': 709, 'bridge': 710, 'hook': 711, 'dad': 712, 'knew': 713, 'expecting': 714, 'allow': 715, 'compatible': 716, 'savvy': 717, 'hearing': 718, 'gadget': 719, 'lives': 720, 'ways': 721, 'upgraded': 722, 'simply': 723, 'kindle': 724, 'search': 725, 'beginning': 726, 'replaced': 727, 'requests': 728, 'telling': 729, 'kasa': 730, 'automation': 731, 'intercom': 732, 'unfortunately': 733, 'enjoyed': 734, 'recognition': 735, 'ago': 736, 'cooking': 737, 'replacement': 738, 'reset': 739, 'adapter': 740, 'save': 741, 'tool': 742, 'completely': 743, 'pick': 744, 'interface': 745, 'seeing': 746, 'cost': 747, 'world': 748, 'point': 749, 'space': 750, 'anyone': 751, 'oh': 752, 'idea': 753, 'correctly': 754, 'improvement': 755, 'color': 756, 'choices': 757, 'podcasts': 758, 'continue': 759, 'operate': 760, 'units': 761, 'digital': 762, 'function': 763, 'discovered': 764, 'grandkids': 765, 'stops': 766, 'open': 767, 'grocery': 768, 'finding': 769, 'language': 770, 'itself': 771, 'large': 772, 'otherwise': 773, 'intuitive': 774, 'either': 775, 'maybe': 776, 'installation': 777, 'due': 778, 'gotten': 779, 'amazed': 780, 'potential': 781, 'arrived': 782, 'bathroom': 783, 'calling': 784, 'wi': 785, 'fi': 786, 'stream': 787, 'word': 788, 'software': 789, 'improve': 790, 'larger': 791, 'run': 792, 'microphone': 793, 'stereo': 794, 'middle': 795, 'black': 796, 'realize': 797, 'version': 798, 'reviews': 799, 'slow': 800, 'front': 801, 'selection': 802, 'hands': 803, 'please': 804, 'hulu': 805, 'laugh': 806, 'cook': 807, 'specific': 808, 'follow': 809, 'review': 810, 'ended': 811, 'sister': 812, 'expect': 813, 'considering': 814, 'primarily': 815, 'lighting': 816, 'believe': 817, 'unlimited': 818, 'contact': 819, 'entire': 820, 'outlet': 821, 'happier': 822, 'called': 823, 'turning': 824, 'recognize': 825, 'particular': 826, 'design': 827, 'various': 828, 'helped': 829, 'returning': 830, 'speaking': 831, 'fairly': 832, 'missing': 833, 'upgrade': 834, 'compact': 835, 'waste': 836, 'trek': 837, 'dont': 838, 'research': 839, 'outstanding': 840, 'sonos': 841, 'customer': 842, 'guy': 843, 'knows': 844, 'lower': 845, 'expensive': 846, 'complaint': 847, 'ai': 848, 'type': 849, 'gone': 850, 'together': 851, 'linked': 852, 'cam': 853, 'doorbell': 854, 'searching': 855, 'basically': 856, 'receive': 857, 'stay': 858, 'network': 859, 'notifications': 860, 'delivered': 861, 'create': 862, 'lock': 863, 'blast': 864, 'roku': 865, 'learns': 866, 'random': 867, 'guess': 868, 'major': 869, 'counter': 870, 'answering': 871, 'controls': 872, 'television': 873, 'iphone': 874, 'clarity': 875, 'delivery': 876, 'busy': 877, 'line': 878, 'example': 879, 'four': 880, 'wall': 881, 'default': 882, 'schedule': 883, 'repeat': 884, 'equipment': 885, 'minor': 886, 'services': 887, 'sleeping': 888, 'unplugged': 889, 'school': 890, 'condition': 891, 'slightly': 892, 'hears': 893, 'tap': 894, 'side': 895, 'forget': 896, 'source': 897, 'inside': 898, 'course': 899, 'aren': 900, 'returned': 901, 'looked': 902, 'n': 903, 'accent': 904, 'button': 905, 'message': 906, 'become': 907, 'close': 908, 'decent': 909, 'shut': 910, 'saw': 911, 'based': 912, 'surprisingly': 913, 'calendar': 914, 'short': 915, 'currently': 916, 'cards': 917, 'y': 918, 'reading': 919, 'directions': 920, 'unable': 921, 'downstairs': 922, 'offer': 923, 'controlling': 924, 'enjoys': 925, 'standard': 926, 'previous': 927, 'playlists': 928, 'improved': 929, 'loads': 930, 'rate': 931, 'place': 932, 'phenomenal': 933, 'joke': 934, 'discount': 935, 'trivia': 936, 'grandchildren': 937, 'bonus': 938, 'cute': 939, 'red': 940, 'initially': 941, 'spend': 942, 'expectations': 943, 'remember': 944, 'local': 945, 'bt': 946, 'suggestions': 947, 'discovering': 948, 'packaging': 949, 'randomly': 950, 'penny': 951, 'funny': 952, 'move': 953, 'biggest': 954, 'moment': 955, 'decide': 956, 'apartment': 957, 'communicate': 958, 'entertaining': 959, 'party': 960, 'mine': 961, 'man': 962, 'month': 963, 'poor': 964, 'five': 965, 'hope': 966, 'complain': 967, 'area': 968, 'spent': 969, 'worried': 970, 'variety': 971, 'mean': 972, 'purchases': 973, 'honestly': 974, 'including': 975, 'okay': 976, 'online': 977, 'ghz': 978, 'colors': 979, 'activated': 980, 'convenience': 981, 'sits': 982, 'desk': 983, 'properly': 984, 'current': 985, 'stupid': 986, 'send': 987, 'displays': 988, 'disappointing': 989, 'specifically': 990, 'cloud': 991, 'lamps': 992, 'viewing': 993, 'directly': 994, 'enabled': 995, 'end': 996, 'view': 997, 'repair': 998, 'person': 999, 'interact': 1000, 'starts': 1001, 'installed': 1002, 'sensitive': 1003, 'happens': 1004, 'connects': 1005, 'fidelity': 1006, 'direct': 1007, 'sooner': 1008, 'member': 1009, 'tunes': 1010, 'tube': 1011, 'giving': 1012, 'hour': 1013, 'fixed': 1014, 'certain': 1015, 'excelente': 1016, 'components': 1017, 'types': 1018, 'homework': 1019, 'classroom': 1020, 'hardly': 1021, 'coming': 1022, 'hit': 1023, 'provides': 1024, 'keeping': 1025, 'dropping': 1026, 'downloaded': 1027, 'yourself': 1028, 'router': 1029, 'pleasantly': 1030, 'artist': 1031, 'exploring': 1032, 'met': 1033, 'waiting': 1034, 'performs': 1035, 'provided': 1036, 'showing': 1037, 'father': 1038, 'stories': 1039, 'slowly': 1040, 'beat': 1041, 'delay': 1042, 'described': 1043, 'increase': 1044, 'electronics': 1045, 'complete': 1046, 'bugs': 1047, 'adjust': 1048, 'explore': 1049, 'changes': 1050, 'elderly': 1051, 'premium': 1052, 'conversations': 1053, 'late': 1054, 'changing': 1055, 'non': 1056, 'personally': 1057, 'sitting': 1058, 'weird': 1059, 'speech': 1060, 'present': 1061, 'shipping': 1062, 'strong': 1063, 'whatever': 1064, 'bottom': 1065, 'certified': 1066, 'parts': 1067, 'planning': 1068, 'everyday': 1069, 'learned': 1070, 'portable': 1071, 'breeze': 1072, 'appointments': 1073, 'awhile': 1074, 'deck': 1075, 'mic': 1076, 'true': 1077, 'arlo': 1078, 'exchange': 1079, 'walk': 1080, 'mode': 1081, 'capable': 1082, 'occasionally': 1083, 'brought': 1084, 'im': 1085, 'further': 1086, 'intended': 1087, 'offers': 1088, 'possible': 1089, 'faces': 1090, 'choose': 1091, 'named': 1092, 'important': 1093, 'negative': 1094, 'snooze': 1095, 'capability': 1096, 'dims': 1097, 'waking': 1098, 'cycle': 1099, 'de': 1100, 'swipe': 1101, 'comfortable': 1102, 'content': 1103, 'tall': 1104, 'children': 1105, 'routine': 1106, 'correct': 1107, 'navigate': 1108, 'tablet': 1109, 'seemed': 1110, 'story': 1111, 'z': 1112, 'wave': 1113, 'jack': 1114, 'floor': 1115, 'charm': 1116, 'th': 1117, 'talks': 1118, 'figuring': 1119, 'greater': 1120, 'port': 1121, 'round': 1122, 'custom': 1123, 'test': 1124, 'knowledge': 1125, 'users': 1126, 'que': 1127, 'lets': 1128, 'company': 1129, 'fios': 1130, 'charge': 1131, 'downside': 1132, 'cd': 1133, 'anymore': 1134, 'feels': 1135, 'picks': 1136, 'book': 1137, 'photo': 1138, 'integrated': 1139, 'exact': 1140, 'names': 1141, 'resist': 1142, 'versatile': 1143, 'instantly': 1144, 'allows': 1145, 'advanced': 1146, 'prior': 1147, 'lacks': 1148, 'english': 1149, 'anticipated': 1150, 'locks': 1151, 'seamlessly': 1152, 'seriously': 1153, 'cordless': 1154, 'accounts': 1155, 'perform': 1156, 'lose': 1157, 'intercoms': 1158, 'aware': 1159, 'likely': 1160, 'challenge': 1161, 'treble': 1162, 'regrets': 1163, 'pool': 1164, 'worry': 1165, 'yard': 1166, 'iheartradio': 1167, 'simultaneously': 1168, 'hesitant': 1169, 'greatest': 1170, 'pain': 1171, 'pleasure': 1172, 'weak': 1173, 'kinda': 1174, 'hoped': 1175, 'installing': 1176, 'inconvenient': 1177, 'beyond': 1178, 'auxiliary': 1179, 'pictures': 1180, 'prefer': 1181, 'act': 1182, 'nest': 1183, 'leaving': 1184, 'dislikes': 1185, 'six': 1186, 'guest': 1187, 'bucks': 1188, 'flawlessly': 1189, 'horrible': 1190, 'neither': 1191, 'everywhere': 1192, 'unplug': 1193, 'refurb': 1194, 'none': 1195, 'recommended': 1196, 'case': 1197, 'defective': 1198, 'helping': 1199, 'shouldn': 1200, 'cant': 1201, 'eyes': 1202, 'level': 1203, 'warranty': 1204, 'special': 1205, 'connectivity': 1206, 'chance': 1207, 'sense': 1208, 'form': 1209, 'chose': 1210, 'opinion': 1211, 'neat': 1212, 'garbage': 1213, 'shop': 1214, 'l': 1215, 'weekend': 1216, 'facetime': 1217, 'bring': 1218, 'compared': 1219, 'asleep': 1220, 'switch': 1221, 'phones': 1222, 'rain': 1223, 'rid': 1224, 'effective': 1225, 'paired': 1226, 'pair': 1227, 'alex': 1228, 'privacy': 1229, 'happened': 1230, 'event': 1231, 'task': 1232, 'imagine': 1233, 'skype': 1234, 'general': 1235, 'fall': 1236, 'events': 1237, 'apparently': 1238, 'clean': 1239, 'addicted': 1240, 'law': 1241, 'la': 1242, 'sucks': 1243, 'cutting': 1244, 'felt': 1245, 'updated': 1246, 'suppose': 1247, 'tasks': 1248, 'silly': 1249, 'cancel': 1250, 'liking': 1251, 'whether': 1252, 'debating': 1253, 'rotate': 1254, 'sized': 1255, 'thunderstorm': 1256, 'willing': 1257, 'nearly': 1258, 'web': 1259, 'mind': 1260, 'past': 1261, 'text': 1262, 'solution': 1263, 'systems': 1264, 'powerful': 1265, 'visual': 1266, 'lag': 1267, 'speed': 1268, 'requires': 1269, 'enjoyable': 1270, 'switches': 1271, 'plenty': 1272, 'straight': 1273, 'confused': 1274, 'zigbee': 1275, 'twice': 1276, 'links': 1277, 'x': 1278, 'inexpensive': 1279, 'ipad': 1280, 'fabric': 1281, 'usb': 1282, 'charger': 1283, 'didnt': 1284, 'unique': 1285, 'likes': 1286, 'android': 1287, 'camelot': 1288, 'tons': 1289, 'es': 1290, 'espa': 1291, 'ol': 1292, 'mention': 1293, 'wonderfully': 1294, 'tips': 1295, 'na': 1296, 'abilities': 1297, 'cent': 1298, 'patient': 1299, 'offered': 1300, 'pass': 1301, 'wow': 1302, 'bigger': 1303, 'besides': 1304, 'sorry': 1305, 'harder': 1306, 'quicker': 1307, 'grab': 1308, 'thoroughly': 1309, 'audiobook': 1310, 'paper': 1311, 'temperature': 1312, 'reports': 1313, 'water': 1314, 'moved': 1315, 'basement': 1316, 'somewhat': 1317, 'details': 1318, 'player': 1319, 'routines': 1320, 'audiophile': 1321, 'covers': 1322, 'possibilities': 1323, 'provide': 1324, 'kinds': 1325, 'jazz': 1326, 'repeated': 1327, 'sad': 1328, 'rocks': 1329, 'socket': 1330, 'communication': 1331, 'automatic': 1332, 'owned': 1333, 'decrease': 1334, 'recognizes': 1335, 'anywhere': 1336, 'usually': 1337, 'consider': 1338, 'improvements': 1339, 'impressive': 1340, 'ordering': 1341, 'outlets': 1342, 'terrific': 1343, 'nicer': 1344, 'directv': 1345, 'wanting': 1346, 'efficient': 1347, 'comparable': 1348, 'concerned': 1349, 'enjoyment': 1350, 'timing': 1351, 'password': 1352, 'barely': 1353, 'discover': 1354, 'whenever': 1355, 'dedicated': 1356, 'sending': 1357, 'purpose': 1358, 'phillips': 1359, 'include': 1360, 'background': 1361, 'responding': 1362, 'yelling': 1363, 'beautiful': 1364, 'switched': 1365, 'reach': 1366, 'haha': 1367, 'amazingly': 1368, 'firmware': 1369, 'application': 1370, 'taking': 1371, 'god': 1372, 'under': 1373, 'hold': 1374, 'model': 1375, 'obvious': 1376, 'shout': 1377, 'alert': 1378, 'reads': 1379, 'total': 1380, 'lived': 1381, 'recording': 1382, 'weren': 1383, 'irritating': 1384, 'noise': 1385, 'date': 1386, 'realized': 1387, 'truly': 1388, 'reminder': 1389, 'wakes': 1390, 'states': 1391, 'shape': 1392, 'answered': 1393, 'kept': 1394, 'customization': 1395, 'reminds': 1396, 'previously': 1397, 'scroll': 1398, 'dark': 1399, 'sing': 1400, 'matter': 1401, 'distance': 1402, 'difficulty': 1403, 'paying': 1404, 'waited': 1405, 'rest': 1406, 'trailers': 1407, 'spots': 1408, 'listens': 1409, 'fits': 1410, 'related': 1411, 'continuously': 1412, 'se': 1413, 'snoozes': 1414, 'dismiss': 1415, 'simpler': 1416, 'finds': 1417, 'cover': 1418, 'location': 1419, 'adequate': 1420, 'woken': 1421, 'manage': 1422, 'briefings': 1423, 'crap': 1424, 'recently': 1425, 'yesterday': 1426, 'literally': 1427, 'dim': 1428, 'voices': 1429, 'hotel': 1430, 'separate': 1431, 'homes': 1432, 'hate': 1433, 'awful': 1434, 'rarely': 1435, 'jumped': 1436, 'engine': 1437, 'created': 1438, 'resolution': 1439, 'literate': 1440, 'library': 1441, 'havent': 1442, 'site': 1443, 'sign': 1444, 'appears': 1445, 'pointless': 1446, 'lightbulb': 1447, 'left': 1448, 'isolated': 1449, 'practical': 1450, 'discovery': 1451, 'fully': 1452, 'standing': 1453, 'training': 1454, 'nope': 1455, 'chromecast': 1456, 'load': 1457, 'rent': 1458, 'linking': 1459, 'al': 1460, 'testing': 1461, 'smarter': 1462, 'motown': 1463, 'salsa': 1464, 'dumber': 1465, 'alexi': 1466, 'interference': 1467, 'yr': 1468, 'r': 1469, 'deaf': 1470, 'politics': 1471, 'benefits': 1472, 'lacking': 1473, 'itunes': 1474, 'anypod': 1475, 'intrusive': 1476, 'followed': 1477, 'primary': 1478, 'ship': 1479, 'mobile': 1480, 'glitches': 1481, 'bargain': 1482, 'deals': 1483, 'en': 1484, 'extent': 1485, 'appliances': 1486, 'controll': 1487, 'located': 1488, 'data': 1489, 'material': 1490, 'secretary': 1491, 'million': 1492, 'style': 1493, 'twist': 1494, 'press': 1495, 'elsewhere': 1496, 'mood': 1497, 'phrase': 1498, 'machine': 1499, 'title': 1500, 'controller': 1501, 'exceeded': 1502, 'responses': 1503, 'informative': 1504, 'nature': 1505, 'queries': 1506, 'enables': 1507, 'subscribing': 1508, 'knowing': 1509, 'whats': 1510, 'worthless': 1511, 'till': 1512, 'briefs': 1513, 'hers': 1514, 'technologically': 1515, 'rechargeable': 1516, 'boom': 1517, 'interaction': 1518, 'odd': 1519, 'southern': 1520, 'superb': 1521, 'hot': 1522, 'seamless': 1523, 'manufacturers': 1524, 'supporting': 1525, 'tvs': 1526, 'fabulous': 1527, 'warehouse': 1528, 'damage': 1529, 'curve': 1530, 'unbelievable': 1531, 'holder': 1532, 'nobody': 1533, 'car': 1534, 'scheduling': 1535, 'thoughts': 1536, 'recorded': 1537, 'frequently': 1538, 'begin': 1539, 'result': 1540, 'deep': 1541, 'technically': 1542, 'serve': 1543, 'ac': 1544, 'integration': 1545, 'superior': 1546, 'invasive': 1547, 'proved': 1548, 'cheaper': 1549, 'refund': 1550, 'center': 1551, 'understanding': 1552, 'feet': 1553, 'receiving': 1554, 'owning': 1555, 'dinner': 1556, 'saved': 1557, 'universal': 1558, 'saving': 1559, 'freeze': 1560, 'seconds': 1561, 'buyer': 1562, 'walked': 1563, 'solved': 1564, 'email': 1565, 'confusing': 1566, 'notification': 1567, 'showering': 1568, 'picking': 1569, 'scared': 1570, 'essentially': 1571, 'opening': 1572, 'versatility': 1573, 'appear': 1574, 'disappoint': 1575, 'receiver': 1576, 'echoes': 1577, 'disconnects': 1578, 'ran': 1579, 'meditation': 1580, 'minute': 1581, 'sold': 1582, 'higher': 1583, 'writing': 1584, 'reconnecting': 1585, 'limitations': 1586, 'hey': 1587, 'solid': 1588, 'brightness': 1589, 'treadmill': 1590, 'yell': 1591, 'instant': 1592, 'excitement': 1593, 'unnecessary': 1594, 'dog': 1595, 'human': 1596, 'tapped': 1597, 'footprint': 1598, 'attached': 1599, 'zero': 1600, 'interesting': 1601, 'wikipedia': 1602, 'efforts': 1603, 'degrees': 1604, 'requesting': 1605, 'known': 1606, 'eh': 1607, 'attention': 1608, 'grand': 1609, 'despite': 1610, 'contacted': 1611, 'deliver': 1612, 'bible': 1613, 'commute': 1614, 'benefit': 1615, 'convinced': 1616, 'creepy': 1617, 'purposes': 1618, 'falling': 1619, 'hopefully': 1620, 'runs': 1621, 'glorified': 1622, 'scrolling': 1623, 'entering': 1624, 'programmed': 1625, 'photos': 1626, 'tad': 1627, 'advertising': 1628, 'bother': 1629, 'table': 1630, 'website': 1631, 'perhaps': 1632, 'interested': 1633, 'spanish': 1634, 'members': 1635, 'whisper': 1636, 'normal': 1637, 'note': 1638, 'college': 1639, 'advertisement': 1640, 'disappointment': 1641, 'dropped': 1642, 'bringing': 1643, 'attractive': 1644, 'dependable': 1645, 'meh': 1646, 'travel': 1647, 'ad': 1648, 'homescreen': 1649, 'su': 1650, 'el': 1651, 'puts': 1652, 'cleaning': 1653, 'ceiling': 1654, 'gripe': 1655, 'novelty': 1656, 'sleek': 1657, 'iheart': 1658, 'driven': 1659, 'organized': 1660, 'cut': 1661, 'dumb': 1662, 'npr': 1663, 'coolest': 1664, 'anytime': 1665, 'beta': 1666, 'period': 1667, 'companion': 1668, 'omg': 1669, 'beautifully': 1670, 'numerous': 1671, 'menu': 1672, 'massive': 1673, 'touching': 1674, 'delete': 1675, 'advise': 1676, 'hell': 1677, 'monitor': 1678, 'hasn': 1679, 'enable': 1680, 'customize': 1681, 'care': 1682, 'manual': 1683, 'media': 1684, 'shine': 1685, 'decor': 1686, 'thongs': 1687, 'sony': 1688, 'pull': 1689, 'screens': 1690, 'woke': 1691, 'com': 1692, 'choice': 1693, 'cons': 1694, 'forever': 1695, 'eeaanh': 1696, 'sounding': 1697, 'print': 1698, 'walking': 1699, 'grandmother': 1700, 'herself': 1701, 'sets': 1702, 'aspects': 1703, 'cnn': 1704, 'leave': 1705, 'spying': 1706, 'natural': 1707, 'kick': 1708, 'controlled': 1709, 'net': 1710, 'state': 1711, 'comfort': 1712, 'blind': 1713, 'single': 1714, 'advantage': 1715, 'behind': 1716, 'drawback': 1717, 'concept': 1718, 'communicating': 1719, 'combined': 1720, 'pause': 1721, 'customizable': 1722, 'fourth': 1723, 'cozi': 1724, 'provider': 1725, 'gb': 1726, 'rock': 1727, 'bar': 1728, 'flashes': 1729, 'restart': 1730, 'newest': 1731, 'themselves': 1732, 'lastly': 1733, 'membership': 1734, 'subscription': 1735, 'spam': 1736, 'mixed': 1737, 'extras': 1738, 'vs': 1739, 'spoiled': 1740, 'common': 1741, 'visiting': 1742, 'improving': 1743, 'impulse': 1744, 'starting': 1745, 'memory': 1746, 'intelligent': 1747, 'contacts': 1748, 'flickering': 1749, 'tin': 1750, 'galaxy': 1751, 'patio': 1752, 'picked': 1753, 'concerns': 1754, 'hubs': 1755, 'bolt': 1756, 'tp': 1757, 'placed': 1758, 'fixtures': 1759, 'den': 1760, 'management': 1761, 'luv': 1762, 'classical': 1763, 'american': 1764, 'thru': 1765, 'near': 1766, 'samsung': 1767, 'disabled': 1768, 'assist': 1769, 'poster': 1770, 'onto': 1771, 'attempt': 1772, 'phase': 1773, 'usage': 1774, 'weight': 1775, 'usual': 1776, 'muffled': 1777, 'spending': 1778, 'depending': 1779, 'singing': 1780, 'quiz': 1781, 'putting': 1782, 'boyfriend': 1783, 'extended': 1784, 'trial': 1785, 'market': 1786, 'buffering': 1787, 'availability': 1788, 'trip': 1789, 'game': 1790, 'accessible': 1791, 'cellphone': 1792, 'smartbon': 1793, 'specifily': 1794, 'listened': 1795, 'childhood': 1796, 'eveyday': 1797, 'knee': 1798, 'hates': 1799, 'featues': 1800, 'shorter': 1801, 'minus': 1802, 'w': 1803, 'comforting': 1804, 'pin': 1805, 'rely': 1806, 'stationed': 1807, 'owners': 1808, 'tasha': 1809, 'definition': 1810, 'synching': 1811, 'motivation': 1812, 'compare': 1813, 'chargeable': 1814, 'fortunately': 1815, 'broadway': 1816, 'ne': 1817, 'jimmy': 1818, 'buffet': 1819, 'accurately': 1820, 'lo': 1821, 'unico': 1822, 'esta': 1823, 'overview': 1824, 'concise': 1825, 'usde': 1826, 'nana': 1827, 'collections': 1828, 'ranger': 1829, 'madlibs': 1830, 'strips': 1831, 'fans': 1832, 'implementing': 1833, 'chosen': 1834, 'nervous': 1835, 'intimidating': 1836, 'fathers': 1837, 'brainer': 1838, 'fuller': 1839, 'countries': 1840, 'burns': 1841, 'strictly': 1842, 'surprising': 1843, 'props': 1844, 'worse': 1845, 'troubling': 1846, 'ex': 1847, 'italian': 1848, 'opera': 1849, 'tosca': 1850, 'recharged': 1851, 'dance': 1852, 'yrs': 1853, 'generally': 1854, 'dies': 1855, 'lilttle': 1856, 'enhanced': 1857, 'age': 1858, 'knowledgeable': 1859, 'greade': 1860, 'blasting': 1861, 'remembering': 1862, 'ecoo': 1863, 'sirius': 1864, 'pencil': 1865, 'fussy': 1866, 'woofers': 1867, 'tweeters': 1868, 'afternoon': 1869, 'surprise': 1870, 'multi': 1871, 'qvc': 1872, 'accidentally': 1873, 'spilled': 1874, 'sprinkler': 1875, 'matched': 1876, 'pamphlet': 1877, 'thorough': 1878, 'define': 1879, 'match': 1880, 'modern': 1881, 'killer': 1882, 'terminology': 1883, 'chart': 1884, 'investment': 1885, 'exho': 1886, 'gender': 1887, 'band': 1888, 'joked': 1889, 'breakfast': 1890, 'portability': 1891, 'stoled': 1892, 'afford': 1893, 'amozon': 1894, 'tou': 1895, 'assumption': 1896, 'sell': 1897, 'flexibility': 1898, 'aux': 1899, 'override': 1900, 'prevents': 1901, 'supberb': 1902, 'sports': 1903, 'hang': 1904, 'series': 1905, 'specify': 1906, 'afterwards': 1907, 'manners': 1908, 'enrolment': 1909, 'overa': 1910, 'born': 1911, 'korea': 1912, 'paroduct': 1913, 'complicated': 1914, 'interfacing': 1915, 'abode': 1916, 'sinqued': 1917, 'lg': 1918, 'invested': 1919, 'imperfection': 1920, 'sealed': 1921, 'knock': 1922, 'integrates': 1923, 'changer': 1924, 'hesitate': 1925, 'lapsed': 1926, 'differentiate': 1927, 'among': 1928, 'speaks': 1929, 'comment': 1930, 'pod': 1931, 'employees': 1932, 'flat': 1933, 'bedrooms': 1934, 'actions': 1935, 'winds': 1936, 'personality': 1937, 'grandsons': 1938, 'goo': 1939, 'straightforward': 1940, 'messed': 1941, 'ground': 1942, 'advice': 1943, 'existence': 1944, 'designers': 1945, 'anticipate': 1946, 'ours': 1947, 'sufficient': 1948, 'evolve': 1949, 'stylish': 1950, 'blown': 1951, 'dj': 1952, 'embarrassed': 1953, 'packages': 1954, 'addict': 1955, 'hiring': 1956, 'electrician': 1957, 'adopters': 1958, 'adjusts': 1959, 'subject': 1960, 'showman': 1961, 'crappy': 1962, 'bummed': 1963, 'enter': 1964, 'metro': 1965, 'booming': 1966, 'sf': 1967, 'pure': 1968, 'dancing': 1969, 'wedding': 1970, 'genre': 1971, 'prepare': 1972, 'pc': 1973, 'drivers': 1974, 'retired': 1975, 'supplying': 1976, 'lve': 1977, 'tekkie': 1978, 'prize': 1979, 'unresponsive': 1980, 'ahead': 1981, 'main': 1982, 'relaxing': 1983, 'asap': 1984, 'chair': 1985, 'amazons': 1986, 'promised': 1987, 'shower': 1988, 'spoken': 1989, 'techie': 1990, 'store': 1991, 'spelling': 1992, 'trust': 1993, 'accessories': 1994, 'prompt': 1995, 'spell': 1996, 'tinny': 1997, 'reception': 1998, 'north': 1999, 'disconnected': 2000, 'broken': 2001, 'fixes': 2002, 'rubber': 2003, 'laundry': 2004, 'granddaughter': 2005, 'moving': 2006, 'outdoors': 2007, 'frustrated': 2008, 'nights': 2009, 'granted': 2010, 'sort': 2011, 'internal': 2012, 'charging': 2013, 'means': 2014, 'crashed': 2015, 'disconnect': 2016, 'orange': 2017, 'mid': 2018, 'performance': 2019, 'rep': 2020, 'effort': 2021, 'green': 2022, 'yellow': 2023, 'above': 2024, 'taken': 2025, 'happening': 2026, 'concerning': 2027, 'push': 2028, 'spoke': 2029, 'grandson': 2030, 'fee': 2031, 'collection': 2032, 'worst': 2033, 'edit': 2034, 'guys': 2035, 'substitute': 2036, 'highest': 2037, 'whatsoever': 2038, 'uncle': 2039, 'quit': 2040, 'lately': 2041, 'script': 2042, 'finicky': 2043, 'sensitivity': 2044, 'led': 2045, 'eg': 2046, 'rating': 2047, 'growing': 2048, 'tower': 2049, 'effortless': 2050, 'flawless': 2051, 'accessing': 2052, 'tricks': 2053, 'functionalities': 2054, 'apprehensive': 2055, 'electronic': 2056, 'verbally': 2057, 'geek': 2058, 'nuts': 2059, 'department': 2060, 'football': 2061, 'tired': 2062, 'troubleshooting': 2063, 'monthly': 2064, 'reaching': 2065, 'imagined': 2066, 'inexperience': 2067, 'shown': 2068, 'gaming': 2069, 'couch': 2070, 'shortly': 2071, 'upsetting': 2072, 'crackling': 2073, 'plans': 2074, 'wonder': 2075, 'according': 2076, 'suggest': 2077, 'outdoor': 2078, 'indoor': 2079, 'synced': 2080, 'baby': 2081, 'anyway': 2082, 'heck': 2083, 'lack': 2084, 'resetting': 2085, 'designed': 2086, 'individual': 2087, 'accomplish': 2088, 'repeating': 2089, 'laptop': 2090, 'interrupt': 2091, 'challenged': 2092, 'changed': 2093, 'ambient': 2094, 'typical': 2095, 'clocks': 2096, 'bunch': 2097, 'route': 2098, 'involved': 2099, 'toddler': 2100, 'became': 2101, 'positive': 2102, 'ridiculous': 2103, 'span': 2104, 'aunt': 2105, 'adds': 2106, 'xm': 2107, 'til': 2108, 'sweet': 2109, 'bright': 2110, 'christmas': 2111, 'pro': 2112, 'displayed': 2113, 'font': 2114, 'possibly': 2115, 'angle': 2116, 'alternative': 2117, 'places': 2118, 'images': 2119, 'flaws': 2120, 'automatically': 2121, 'incredibly': 2122, 'con': 2123, 'missed': 2124, 'glasses': 2125, 'early': 2126, 'crisp': 2127, 'scrolls': 2128, 'dressed': 2129, 'owner': 2130, 'staff': 2131, 'assistance': 2132, 'suggested': 2133, 'versions': 2134, 'fit': 2135, 'pop': 2136, 'familiar': 2137, 'sliced': 2138, 'bread': 2139, 'dimmer': 2140, 'youngest': 2141, 'goodies': 2142, 'cause': 2143, 'pre': 2144, 'permanently': 2145, 'acting': 2146, 'sadly': 2147, 'misplace': 2148, 'kid': 2149, 'practically': 2150, 'precise': 2151, 'manually': 2152, 'results': 2153, 'recurring': 2154, 'happen': 2155, 'hadn': 2156, 'microphones': 2157, 'models': 2158, 'forces': 2159, 'syncing': 2160, 'ignoring': 2161, 'customers': 2162, 'fell': 2163, 'concern': 2164, 'grandparents': 2165, 'conferencing': 2166, 'bill': 2167, 'arm': 2168, 'websites': 2169, 'e': 2170, 'kwikset': 2171, 'soundbar': 2172, 'navigating': 2173, 'arrive': 2174, 'seen': 2175, 'integrating': 2176, 'dash': 2177, 'road': 2178, 'disaster': 2179, 'genres': 2180, 'child': 2181, 'outrageous': 2182, 'analog': 2183, 'buyers': 2184, 'decision': 2185, 'promotion': 2186, 'packing': 2187, 'emergency': 2188, 'folks': 2189, 'advertise': 2190, 'town': 2191, 'avail': 2192, 'force': 2193, 'awake': 2194, 'replaces': 2195, 'pros': 2196, 'unlike': 2197, 'porch': 2198, 'ads': 2199, 'crazy': 2200, 'separately': 2201, 'jump': 2202, 'board': 2203, 'technical': 2204, 'self': 2205, 'bundle': 2206, 'serious': 2207, 'engineers': 2208, 'tested': 2209, 'schedules': 2210, 'plain': 2211, 'cumbersome': 2212, 'versa': 2213, 'tends': 2214, 'break': 2215, 'stands': 2216, 'expired': 2217, 'desired': 2218, 'voila': 2219, 'hire': 2220, 'sooooo': 2221, 'recipe': 2222, 'lost': 2223, 'caused': 2224, 'interacting': 2225, 'country': 2226, 'hmm': 2227, 'sticks': 2228, 'loses': 2229, 'bezos': 2230, 'reccomend': 2231, 'cat': 2232, 'vacation': 2233, 'aesthetic': 2234, 'mediocre': 2235, 'gifts': 2236, 'heavy': 2237, 'pics': 2238, 'constant': 2239, 'held': 2240, 'expectation': 2241, 'shipped': 2242, 'maximize': 2243, 'recent': 2244, 'stuck': 2245, 'eco': 2246, 'lines': 2247, 'trigger': 2248, 'fills': 2249, 'post': 2250, 'sources': 2251, 'incredible': 2252, 'hd': 2253, 'priced': 2254, 'k': 2255, 'tries': 2256, 'noticed': 2257, 'recordings': 2258, 'history': 2259, 'upon': 2260, 'eventually': 2261, 'f': 2262, 'wealth': 2263, 'hole': 2264, 'demand': 2265, 'friday': 2266, 'page': 2267, 'visuals': 2268, 'glitching': 2269, 'lazy': 2270, 'originally': 2271, 'decorated': 2272, 'vehicle': 2273, 'covered': 2274, 'afraid': 2275, 'accuracy': 2276, 'ass': 2277, 'smooth': 2278, 'powercord': 2279, 'strongly': 2280, 'orders': 2281, 'frustration': 2282, 'brief': 2283, 'talked': 2284, 'leaning': 2285, 'messages': 2286, 'quot': 2287, 'forums': 2288, 'ny': 2289, 'description': 2290, 'conversation': 2291, 'oops': 2292, 'vision': 2293, 'beginners': 2294, 'bff': 2295, 'pound': 2296, 'plane': 2297, 'bundled': 2298, 'newer': 2299, 'mark': 2300, 'tivo': 2301, 'required': 2302, 'disarm': 2303, 'ge': 2304, 'activate': 2305, 'sit': 2306, 'replacing': 2307, 'importantly': 2308, 'bye': 2309, 'buld': 2310, 'googled': 2311, 'steps': 2312, 'xfinity': 2313, 'geo': 2314, 'fencing': 2315, 'cheapest': 2316, 'italy': 2317, 'anybody': 2318, 'scheduled': 2319, 'differences': 2320, 'speedy': 2321, 'operator': 2322, 'whom': 2323, 'wasnt': 2324, 'island': 2325, 'building': 2326, 'knob': 2327, 'checked': 2328, 'prove': 2329, 'clue': 2330, 'girlfriend': 2331, 'blueprints': 2332, 'wished': 2333, 'kodi': 2334, 'platform': 2335, 'utilize': 2336, 'bills': 2337, 'v': 2338, 'record': 2339, 'amounts': 2340, 'keyboard': 2341, 'sling': 2342, 'cbs': 2343, 'o': 2344, 'batteries': 2345, 'theater': 2346, 'fat': 2347, 'forecasts': 2348, 'interactive': 2349, 'bug': 2350, 'newsflash': 2351, 'reboots': 2352, 'stage': 2353, 'invention': 2354, 'tricky': 2355, 'stayed': 2356, 'hmmmm': 2357, 'appreciated': 2358, 'disconnecting': 2359, 'tickled': 2360, 'keeper': 2361, 'rough': 2362, 'patch': 2363, 'sunroom': 2364, 'helful': 2365, 'supported': 2366, 'reached': 2367, 'sprint': 2368, 'bare': 2369, 'minimum': 2370, 'hospital': 2371, 'grands': 2372, 'welcome': 2373, 'serius': 2374, 'sm': 2375, 'alot': 2376, 'fashioned': 2377, 'digitol': 2378, 'vacations': 2379, 'everytime': 2380, 'paranoid': 2381, 'vlan': 2382, 'require': 2383, 'questionable': 2384, 'carful': 2385, 'vetted': 2386, 'askes': 2387, 'handled': 2388, 'lonely': 2389, 'spark': 2390, 'ifs': 2391, 'ands': 2392, 'buts': 2393, 'minorly': 2394, 'comands': 2395, 'capasity': 2396, 'complained': 2397, 'medium': 2398, 'doors': 2399, 'barn': 2400, 'horse': 2401, 'healing': 2402, 'continuous': 2403, 'spa': 2404, 'par': 2405, 'nite': 2406, 'boombox': 2407, 'thick': 2408, 'dated': 2409, 'champ': 2410, 'yeah': 2411, 'insert': 2412, 'un': 2413, 'equipo': 2414, 'inteligente': 2415, 'estar': 2416, 'conectado': 2417, 'nos': 2418, 'provee': 2419, 'ltiples': 2420, 'funciones': 2421, 'tales': 2422, 'como': 2423, 'tiempo': 2424, 'hora': 2425, 'informaci': 2426, 'cualquier': 2427, 'estudio': 2428, 'est': 2429, 'realizando': 2430, 'atr': 2431, 'vez': 2432, 'del': 2433, 'forgot': 2434, 'amaxing': 2435, 'greeting': 2436, 'oven': 2437, 'temps': 2438, 'simplified': 2439, 'bandwagon': 2440, 'struggle': 2441, 'sharing': 2442, 'reliable': 2443, 'qualty': 2444, 'filled': 2445, 'compound': 2446, 'projects': 2447, 'projection': 2448, 'awkward': 2449, 'students': 2450, 'dorm': 2451, 'spacing': 2452, 'smarthome': 2453, 'alright': 2454, 'reputation': 2455, 'nois': 2456, 'shooting': 2457, 'phonetically': 2458, 'intend': 2459, 'released': 2460, 'proper': 2461, 'development': 2462, 'fails': 2463, 'british': 2464, 'restrictive': 2465, 'refined': 2466, 'informed': 2467, 'verse': 2468, 'argue': 2469, 'imusic': 2470, 'structure': 2471, 'affordable': 2472, 'lullaby': 2473, 'survived': 2474, 'bells': 2475, 'whistles': 2476, 'satisified': 2477, 'flexible': 2478, 'humour': 2479, 'favorites': 2480, 'nowhere': 2481, 'wishing': 2482, 'solely': 2483, 'loosing': 2484, 'presumably': 2485, 'buzzing': 2486, 'king': 2487, 'cutie': 2488, 'sanity': 2489, 'choppy': 2490, 'domain': 2491, 'city': 2492, 'dial': 2493, 'lame': 2494, 'legally': 2495, 'godsend': 2496, 'numbers': 2497, 'choosing': 2498, 'shipment': 2499, 'costs': 2500, 'wattage': 2501, 'dollars': 2502, 'obsessed': 2503, 'stairs': 2504, 'certainly': 2505, 'unexpected': 2506, 'remind': 2507, 'seams': 2508, 'maintain': 2509, 'smiths': 2510, 'falls': 2511, 'learnimg': 2512, 'sounded': 2513, 'emoji': 2514, 'below': 2515, 'becoming': 2516, 'accustom': 2517, 'pup': 2518, 'calm': 2519, 'wonders': 2520, 'calmer': 2521, 'bark': 2522, 'expert': 2523, 'operation': 2524, 'confuses': 2525, 'engagement': 2526, 'sales': 2527, 'tempting': 2528, 'este': 2529, 'producto': 2530, 'lleg': 2531, 'semana': 2532, 'qued': 2533, 'sin': 2534, 'olor': 2535, 'perdi': 2536, 'toda': 2537, 'escencia': 2538, 'huele': 2539, 'solo': 2540, 'alcohol': 2541, 'barry': 2542, 'ages': 2543, 'adults': 2544, 'locations': 2545, 'dead': 2546, 'stat': 2547, 'bothered': 2548, 'dinosaurs': 2549, 'categories': 2550, 'grandaughter': 2551, 'miles': 2552, 'duty': 2553, 'boost': 2554, 'definitively': 2555, 'input': 2556, 'select': 2557, 'encyclopedias': 2558, 'refunds': 2559, 'pauses': 2560, 'pattern': 2561, 'promp': 2562, 'poop': 2563, 'arent': 2564, 'naw': 2565, 'dollar': 2566, 'outsmart': 2567, 'foot': 2568, 'performing': 2569, 'divertido': 2570, 'iove': 2571, 'attach': 2572, 'fm': 2573, 'native': 2574, 'americans': 2575, 'whose': 2576, 'texas': 2577, 'birth': 2578, 'additionally': 2579, 'marginal': 2580, 'extender': 2581, 'ten': 2582, 'dust': 2583, 'collectors': 2584, 'accomplished': 2585, 'acknowledge': 2586, 'indicated': 2587, 'productsand': 2588, 'journey': 2589, 'surely': 2590, 'portion': 2591, 'leary': 2592, 'puny': 2593, 'wear': 2594, 'tear': 2595, 'shuts': 2596, 'mint': 2597, 'teenagers': 2598, 'insist': 2599, 'young': 2600, 'simplicity': 2601, 'gazebo': 2602, 'diagnostics': 2603, 'corrected': 2604, 'roomba': 2605, 'reboot': 2606, 'sentence': 2607, 'holding': 2608, 'action': 2609, 'shocked': 2610, 'clone': 2611, 'boat': 2612, 'garage': 2613, 'gf': 2614, 'intermittently': 2615, 'channel': 2616, 'pulsate': 2617, 'pulsed': 2618, 'buddies': 2619, 'psychological': 2620, 'excellently': 2621, 'whe': 2622, 'reconditioned': 2623, 'pare': 2624, 'weary': 2625, 'actively': 2626, 'release': 2627, 'widespread': 2628, 'prevent': 2629, 'cortna': 2630, 'alive': 2631, 'thumbs': 2632, 'workreat': 2633, 'registered': 2634, 'spanking': 2635, 'laying': 2636, 'moana': 2637, 'sh': 2638, 'wherever': 2639, 'cordthank': 2640, 'brandnew': 2641, 'output': 2642, 'vintage': 2643, 'longevity': 2644, 'compliments': 2645, 'bough': 2646, 'bathrooms': 2647, 'detect': 2648, 'significant': 2649, 'shelled': 2650, 'electronically': 2651, 'savy': 2652, 'sink': 2653, 'refurbishedthought': 2654, 'eye': 2655, 'drops': 2656, 'closed': 2657, 'backyard': 2658, 'assumed': 2659, 'standards': 2660, 'guaranteeing': 2661, 'junk': 2662, 'sometime': 2663, 'haywire': 2664, 'soft': 2665, 'advised': 2666, 'raised': 2667, 'dunno': 2668, 'rambled': 2669, 'unhelpful': 2670, 'spiel': 2671, 'norm': 2672, 'responsiveness': 2673, 'albeit': 2674, 'nil': 2675, 'rainbow': 2676, 'effects': 2677, 'handle': 2678, 'levels': 2679, 'persist': 2680, 'theirs': 2681, 'xs': 2682, 'lauded': 2683, 'screaming': 2684, 'excuses': 2685, 'disappointments': 2686, 'viola': 2687, 'atmosphere': 2688, 'joy': 2689, 'sooo': 2690, 'ocean': 2691, 'groups': 2692, 'alexas': 2693, 'preciously': 2694, 'guard': 2695, 'leaves': 2696, 'blinks': 2697, 'chores': 2698, 'dogs': 2699, 'golden': 2700, 'absolutly': 2701, 'existing': 2702, 'guarantee': 2703, 'tardis': 2704, 'land': 2705, 'geeks': 2706, 'majel': 2707, 'barret': 2708, 'heaven': 2709, 'nsa': 2710, 'packaged': 2711, 'entertained': 2712, 'honest': 2713, 'refurbish': 2714, 'drives': 2715, 'dissatisfaction': 2716, 'forgotten': 2717, 'mainstream': 2718, 'amusing': 2719, 'yards': 2720, 'cotton': 2721, 'refer': 2722, 'sorely': 2723, 'reasonable': 2724, 'hal': 2725, 'seldom': 2726, 'reconnected': 2727, 'workout': 2728, 'row': 2729, 'accurate': 2730, 'thats': 2731, 'conspiracy': 2732, 'theories': 2733, 'eavesdropping': 2734, 'government': 2735, 'labeled': 2736, 'report': 2737, 'educational': 2738, 'refurbishing': 2739, 'wont': 2740, 'ita': 2741, 'perfecto': 2742, 'died': 2743, 'boss': 2744, 'performed': 2745, 'owlhead': 2746, 'jacuzzi': 2747, 'nrw': 2748, 'defently': 2749, 'becomes': 2750, 'niece': 2751, 'introduction': 2752, 'trained': 2753, 'faulty': 2754, 'toilet': 2755, 'credited': 2756, 'hosting': 2757, 'lm': 2758, 'fanatic': 2759, 'extend': 2760, 'disturbing': 2761, 'verses': 2762, 'dodging': 2763, 'refurbs': 2764, 'unused': 2765, 'crib': 2766, 'ish': 2767, 'understood': 2768, 'worthy': 2769, 'successor': 2770, 'theecho': 2771, 'mybedroom': 2772, 'wasconcerned': 2773, 'discoveredthat': 2774, 'avoid': 2775, 'confusion': 2776, 'male': 2777, 'tomy': 2778, 'thestand': 2779, 'advantages': 2780, 'drag': 2781, 'dining': 2782, 'disagree': 2783, 'freezes': 2784, 'resolves': 2785, 'specifying': 2786, 'disconcerting': 2787, 'groggy': 2788, 'factor': 2789, 'square': 2790, 'rectangular': 2791, 'gizmo': 2792, 'individually': 2793, 'altering': 2794, 'computers': 2795, 'ipads': 2796, 'fussing': 2797, 'park': 2798, 'awsome': 2799, 'ceases': 2800, 'amaze': 2801, 'bang': 2802, 'softly': 2803, 'scratched': 2804, 'surface': 2805, 'devise': 2806, 'skeptical': 2807, 'grows': 2808, 'ant': 2809, 'trailer': 2810, 'desktop': 2811, 'appliance': 2812, 'recipient': 2813, 'selling': 2814, 'cropping': 2815, 'strange': 2816, 'glaring': 2817, 'exception': 2818, 'defeats': 2819, 'reminded': 2820, 'glow': 2821, 'bothersome': 2822, 'walls': 2823, 'lover': 2824, 'resembling': 2825, 'alabama': 2826, 'anyways': 2827, 'viewed': 2828, 'solves': 2829, 'efficiency': 2830, 'displaying': 2831, 'routinely': 2832, 'furthermore': 2833, 'navigation': 2834, 'tailor': 2835, 'accordingly': 2836, 'returnef': 2837, 'hardcore': 2838, 'infact': 2839, 'variant': 2840, 'beauty': 2841, 'placing': 2842, 'soundtouch': 2843, 'careless': 2844, 'ear': 2845, 'combination': 2846, 'plugins': 2847, 'indispensable': 2848, 'extrimelly': 2849, 'personalization': 2850, 'aloud': 2851, 'typed': 2852, 'unlocking': 2853, 'codes': 2854, 'unwitty': 2855, 'developers': 2856, 'invasions': 2857, 'carrier': 2858, 'defence': 2859, 'interpret': 2860, 'boring': 2861, 'notice': 2862, 'pen': 2863, 'id': 2864, 'served': 2865, 'pm': 2866, 'protected': 2867, 'safe': 2868, 'beam': 2869, 'specially': 2870, 'reactive': 2871, 'opened': 2872, 'convert': 2873, 'dimat': 2874, 'mu': 2875, 'hcfe': 2876, 'bot': 2877, 'rings': 2878, 'moms': 2879, 'ise': 2880, 'unnannounced': 2881, 'warning': 2882, 'activities': 2883, 'misunderstands': 2884, 'lit': 2885, 'consistent': 2886, 'feed': 2887, 'grandfather': 2888, 'lesson': 2889, 'visits': 2890, 'lags': 2891, 'lightning': 2892, 'sleeps': 2893, 'inability': 2894, 'lightening': 2895, 'storm': 2896, 'messaging': 2897, 'unusable': 2898, 'card': 2899, 'opt': 2900, 'critically': 2901, 'rebooted': 2902, 'funcionamiento': 2903, 'llama': 2904, 'atenci': 2905, 'rapidez': 2906, 'respuesta': 2907, 'logra': 2908, 'trav': 2909, 'utilizaci': 2910, 'sorprendi': 2911, 'gratamente': 2912, 'muy': 2913, 'recomendable': 2914, 'prompts': 2915, 'dismissed': 2916, 'tomorrow': 2917, 'mon': 2918, 'thu': 2919, 'fri': 2920, 'apparent': 2921, 'indicator': 2922, 'fingertips': 2923, 'habit': 2924, 'ladies': 2925, 'acts': 2926, 'etekcity': 2927, 'voltson': 2928, 'harvard': 2929, 'degree': 2930, 'updating': 2931, 'complaining': 2932, 'goodness': 2933, 'lov': 2934, 'overwhelming': 2935, 'counters': 2936, 'wide': 2937, 'forth': 2938, 'dying': 2939, 'attempted': 2940, 'jaws': 2941, 'business': 2942, 'hired': 2943, 'smoothly': 2944, 'reportsalarm': 2945, 'register': 2946, 'circle': 2947, 'toward': 2948, 'treat': 2949, 'bloomberg': 2950, 'gain': 2951, 'key': 2952, 'catch': 2953, 'conditions': 2954, 'iy': 2955, 'deactivate': 2956, 'nervana': 2957, 'geared': 2958, 'towards': 2959, 'nigh': 2960, 'india': 2961, 'jamming': 2962, 'weekday': 2963, 'delivers': 2964, 'helper': 2965, 'travelling': 2966, 'mama': 2967, 'elegant': 2968, 'selfies': 2969, 'sends': 2970, 'hubby': 2971, 'hide': 2972, 'squirms': 2973, 'conscious': 2974, 'blocking': 2975, 'weekdays': 2976, 'rotates': 2977, 'upset': 2978, 'fail': 2979, 'blessing': 2980, 'bedtime': 2981, 'unobtrusive': 2982, 'themes': 2983, 'east': 2984, 'coast': 2985, 'failing': 2986, 'partner': 2987, 'swiping': 2988, 'ii': 2989, 'screw': 2990, 'receivded': 2991, 'thrown': 2992, 'ting': 2993, 'fascinating': 2994, 'disable': 2995, 'persuasion': 2996, 'enters': 2997, 'alerts': 2998, 'marketing': 2999, 'contents': 3000, 'acceptable': 3001, 'moreover': 3002, 'tend': 3003, 'tools': 3004, 'impede': 3005, 'operations': 3006, 'thursday': 3007, 'unwrapped': 3008, 'reoccurring': 3009, 'believer': 3010, 'shell': 3011, 'leg': 3012, 'reference': 3013, 'cohesive': 3014, 'instruction': 3015, 'pizza': 3016, 'hut': 3017, 'views': 3018, 'hype': 3019, 'bugging': 3020, 'downright': 3021, 'ugly': 3022, 'interest': 3023, 'smartphone': 3024, 'pages': 3025, 'fiances': 3026, 'preferred': 3027, 'renting': 3028, 'tinker': 3029, 'hvac': 3030, 'looooooove': 3031, 'chachki': 3032, 'adjustment': 3033, 'hong': 3034, 'kong': 3035, 'bezel': 3036, 'usable': 3037, 'involves': 3038, 'dare': 3039, 'hundred': 3040, 'meant': 3041, 'nonsense': 3042, 'nanny': 3043, 'adorable': 3044, 'subscriber': 3045, 'alternatives': 3046, 'alleviate': 3047, 'remorse': 3048, 'sight': 3049, 'numb': 3050, 'indundated': 3051, 'stimulus': 3052, 'suitable': 3053, 'entirely': 3054, 'knocked': 3055, 'cycles': 3056, 'rotation': 3057, 'heads': 3058, 'lady': 3059, 'researched': 3060, 'occasional': 3061, 'trending': 3062, 'greatly': 3063, 'depreciates': 3064, 'billboard': 3065, 'streamline': 3066, 'warns': 3067, 'snarls': 3068, 'suggesting': 3069, 'introducing': 3070, 'artists': 3071, 'amaonmazing': 3072, 'blanket': 3073, 'infotainment': 3074, 'sleepy': 3075, 'zonked': 3076, 'zzzzzzz': 3077, 'yep': 3078, 'statement': 3079, 'excessive': 3080, 'rotations': 3081, 'screenselect': 3082, 'settingshome': 3083, 'clockhome': 3084, 'cardsrotate': 3085, 'onceproblem': 3086, 'nicely': 3087, 'constructed': 3088, 'arriving': 3089, 'pricey': 3090, 'https': 3091, 'www': 3092, 'dp': 3093, 'b': 3094, 'sqyxtw': 3095, 'ref': 3096, 'cm': 3097, 'cr': 3098, 'ryp': 3099, 'prd': 3100, 'ttl': 3101, 'sol': 3102, 'positives': 3103, 'initial': 3104, 'clearer': 3105, 'mount': 3106, 'lcd': 3107, 'sleeper': 3108, 'wind': 3109, 'taping': 3110, 'tape': 3111, 'tiny': 3112, 'suffer': 3113, 'swell': 3114, 'slide': 3115, 'pivoting': 3116, 'colon': 3117, 'celebs': 3118, 'nit': 3119, 'picky': 3120, 'beefy': 3121, 'compliment': 3122, 'determined': 3123, 'overheating': 3124, 'replied': 3125, 'inline': 3126, 'per': 3127, 'unacceptable': 3128, 'arises': 3129, 'farther': 3130, 'cleaner': 3131, 'perk': 3132, 'beside': 3133, 'split': 3134, 'hairs': 3135, 'increasing': 3136, 'weekly': 3137, 'overtime': 3138, 'project': 3139, 'feedback': 3140, 'staying': 3141, 'girls': 3142, 'deployed': 3143, 'appropriate': 3144, 'particularly': 3145, 'fumble': 3146, 'situations': 3147, 'spouse': 3148, 'cancels': 3149, 'cancelled': 3150, 'snoozed': 3151, 'amused': 3152, 'summoning': 3153, 'creapy': 3154, 'af': 3155, 'vice': 3156, 'intermittent': 3157, 'optical': 3158, 'podcast': 3159, 'digs': 3160, 'cartoons': 3161, 'hectic': 3162, 'virtual': 3163, 'libraries': 3164, 'sopt': 3165, 'realizing': 3166, 'amazonia': 3167, 'lil': 3168, 'mentioned': 3169, 'effected': 3170, 'anyhow': 3171, 'hand': 3172, 'pleasedsimple': 3173, 'tremendous': 3174, 'dhiw': 3175, 'preview': 3176, 'pricing': 3177, 'underestimated': 3178, 'cart': 3179, 'chatting': 3180, 'isnt': 3181, 'image': 3182, 'pixelated': 3183, 'slideshow': 3184, 'articles': 3185, 'shutting': 3186, 'mexico': 3187, 'usa': 3188, 'houses': 3189, 'mimic': 3190, 'baseball': 3191, 'scores': 3192, 'cooler': 3193, 'audiobooks': 3194, 'applications': 3195, 'optional': 3196, 'disposable': 3197, 'income': 3198, 'imhave': 3199, 'recommending': 3200, 'continually': 3201, 'bc': 3202, 'guide': 3203, 'floating': 3204, 'purely': 3205, 'track': 3206, 'holiday': 3207, 'organization': 3208, 'virtually': 3209, 'punch': 3210, 'mids': 3211, 'activates': 3212, 'meaningful': 3213, 'distraction': 3214, 'practicalthan': 3215, 'uninstall': 3216, 'reinstall': 3217, 'reconfigure': 3218, 'resistant': 3219, 'york': 3220, 'fair': 3221, 'co': 3222, 'worker': 3223, 'telephone': 3224, 'laughter': 3225, 'eliminate': 3226, 'payed': 3227, 'sooooooo': 3228, 'pia': 3229, 'manuals': 3230, 'magically': 3231, 'examples': 3232, 'pants': 3233, 'udefulness': 3234, 'hated': 3235, 'parties': 3236, 'dish': 3237, 'ti': 3238, 'definately': 3239, 'hesitated': 3240, 'mac': 3241, 'air': 3242, 'referred': 3243, 'intelagence': 3244, 'dependence': 3245, 'pushed': 3246, 'accessable': 3247, 'gather': 3248, 'subsequently': 3249, 'ihome': 3250, 'docking': 3251, 'clothes': 3252, 'dryer': 3253, 'resume': 3254, 'utility': 3255, 'owe': 3256, 'marked': 3257, 'lyrical': 3258, 'malone': 3259, 'consumer': 3260, 'argument': 3261, 'feeds': 3262, 'spectacular': 3263, 'stellar': 3264, 'hi': 3265, 'campus': 3266, 'carry': 3267, 'stationary': 3268, 'invasion': 3269, 'relief': 3270, 'onme': 3271, 'visa': 3272, 'voiceview': 3273, 'reader': 3274, 'ourselves': 3275, 'vast': 3276, 'canary': 3277, 'agree': 3278, 'deeper': 3279, 'capacity': 3280, 'join': 3281, 'backgrounds': 3282, 'primeday': 3283, 'blows': 3284, 'amount': 3285, 'untapped': 3286, 'locked': 3287, 'restrictions': 3288, 'louis': 3289, 'thrilled': 3290, 'seprately': 3291, 'mics': 3292, 'tg': 3293, 'ed': 3294, 'sharp': 3295, 'secret': 3296, 'agent': 3297, 'johnny': 3298, 'rivers': 3299, 'comeletely': 3300, 'irritated': 3301, 'baffled': 3302, 'nor': 3303, 'abay': 3304, 'cylinder': 3305, 'writes': 3306, 'accompanying': 3307, 'anylist': 3308, 'decides': 3309, 'exceeds': 3310, 'topic': 3311, 'preparing': 3312, 'spotlight': 3313, 'cams': 3314, 'clients': 3315, 'cracked': 3316, 'graphics': 3317, 'drawing': 3318, 'essential': 3319, 'marvelous': 3320, 'conditioning': 3321, 'steep': 3322, 'diversity': 3323, 'dec': 3324, 'window': 3325, 'opens': 3326, 'contains': 3327, 'grownups': 3328, 'position': 3329, 'stove': 3330, 'cousin': 3331, 'carolina': 3332, 'addressed': 3333, 'majes': 3334, 'repairs': 3335, 'glitch': 3336, 'ty': 3337, 'jeapordy': 3338, 'visible': 3339, 'competition': 3340, 'developed': 3341, 'therefore': 3342, 'doesnt': 3343, 'shorted': 3344, 'minimal': 3345, 'nightmare': 3346, 'overpriced': 3347, 'produc': 3348, 'fledged': 3349, 'accesss': 3350, 'lurking': 3351, 'continous': 3352, 'promoting': 3353, 'settins': 3354, 'anti': 3355, 'reasons': 3356, 'staging': 3357, 'acoustical': 3358, 'cylindercal': 3359, 'adjacent': 3360, 'stinks': 3361, 'engaging': 3362, 'regard': 3363, 'bandwidth': 3364, 'detailed': 3365, 'offing': 3366, 'ase': 3367, 'participating': 3368, 'compacity': 3369, 'aint': 3370, 'international': 3371, 'tune': 3372, 'pulling': 3373, 'teeth': 3374, 'totallly': 3375, 'blink': 3376, 'everybody': 3377, 'jetsons': 3378, 'draw': 3379, 'teacher': 3380, 'ight': 3381, 'inviting': 3382, 'expanding': 3383, 'maintaining': 3384, 'shuffle': 3385, 'photographs': 3386, 'sewing': 3387, 'wellfour': 3388, 'bizarre': 3389, 'sore': 3390, 'thumb': 3391, 'flaw': 3392, 'urge': 3393, 'affirmations': 3394, 'personalized': 3395, 'allrecipes': 3396, 'illustrated': 3397, 'uhyour': 3398, 'selections': 3399, 'preferences': 3400, 'temp': 3401, 'c': 3402, 'searches': 3403, 'laziness': 3404, 'headphones': 3405, 'dig': 3406, 'bonkers': 3407, 'floored': 3408, 'blurring': 3409, 'shaking': 3410, 'jumping': 3411, 'hassle': 3412, 'references': 3413, 'yup': 3414, 'hahaawesome': 3415, 'hints': 3416, 'sparks': 3417, 'imagination': 3418, 'belong': 3419, 'nephews': 3420, 'grandparent': 3421, 'dementia': 3422, 'loss': 3423, 'medications': 3424, 'viceo': 3425, 'aka': 3426, 'nbsp': 3427, 'hence': 3428, 'puzzled': 3429, 'yhe': 3430, 'thou': 3431, 'calendars': 3432, 'alongside': 3433, 'algo': 3434, 'isue': 3435, 'reported': 3436, 'soluci': 3437, 'screenless': 3438, 'providing': 3439, 'hallway': 3440, 'bulky': 3441, 'headline': 3442, 'suggests': 3443, 'adapted': 3444, 'machines': 3445, 'cross': 3446, 'activating': 3447, 'rename': 3448, 'adept': 3449, 'exceptionally': 3450, 'coffee': 3451, 'prettier': 3452, 'dense': 3453, 'nj': 3454, 'regional': 3455, 'experiences': 3456, 'tablets': 3457, 'surround': 3458, 'gadgets': 3459, 'spur': 3460, 'dictionary': 3461, 'areas': 3462, 'reduced': 3463, 'auto': 3464, 'imrproved': 3465, 'string': 3466, 'explicit': 3467, 'electeonically': 3468, 'feee': 3469, 'lifht': 3470, 'bing': 3471, 'combine': 3472, 'silver': 3473, 'unimportant': 3474, 'intention': 3475, 'scottish': 3476, 'specs': 3477, 'stubborn': 3478, 'gatherings': 3479, 'extends': 3480, 'impaired': 3481, 'loaded': 3482, 'social': 3483, 'facebook': 3484, 'twitter': 3485, 'whos': 3486, 'aspect': 3487, 'distracting': 3488, 'countless': 3489, 'dunce': 3490, 'sigh': 3491, 'exasperation': 3492, 'ignored': 3493, 'workarounds': 3494, 'scoured': 3495, 'section': 3496, 'addresses': 3497, 'configure': 3498, 'accepting': 3499, 'karen': 3500, 'controllable': 3501, 'cups': 3502, 'sons': 3503, 'slight': 3504, 'begun': 3505, 'array': 3506, 'mute': 3507, 'equalizer': 3508, 'introduce': 3509, 'posed': 3510, 'somebody': 3511, 'community': 3512, 'body': 3513, 'wink': 3514, 'integrate': 3515, 'innovative': 3516, 'upgrading': 3517, 'cases': 3518, 'settle': 3519, 'philly': 3520, 'buys': 3521, 'yale': 3522, 'techy': 3523, 'audibles': 3524, 'tunein': 3525, 'heart': 3526, 'reorder': 3527, 'notifies': 3528, 'mailed': 3529, 'devises': 3530, 'august': 3531, 'ties': 3532, 'experienced': 3533, 'nexia': 3534, 'interactions': 3535, 'alread': 3536, 'nudged': 3537, 'build': 3538, 'fixture': 3539, 'configured': 3540, 'brands': 3541, 'baffle': 3542, 'esp': 3543, 'dented': 3544, 'exchanging': 3545, 'coop': 3546, 'somehow': 3547, 'reauthorize': 3548, 'ton': 3549, 'jeopardy': 3550, 'corresponds': 3551, 'exchanges': 3552, 'makings': 3553, 'documentation': 3554, 'becausse': 3555, 'accident': 3556, 'echoplus': 3557, 'extension': 3558, 'habla': 3559, 'espanol': 3560, 'cpr': 3561, 'mistakes': 3562, 'sofa': 3563, 'broke': 3564, 'fixing': 3565, 'philipshue': 3566, 'instantaneous': 3567, 'catches': 3568, 'bothers': 3569, 'conflict': 3570, 'evaluate': 3571, 'communicated': 3572, 'preset': 3573, 'firmare': 3574, 'featured': 3575, 'iot': 3576, 'needing': 3577, 'standalone': 3578, 'redundant': 3579, 'equal': 3580, 'soundlink': 3581, 'tinkering': 3582, 'chalk': 3583, 'repertoire': 3584, 'walks': 3585, 'successfully': 3586, 'completed': 3587, 'technicians': 3588, 'chromebook': 3589, 'luck': 3590, 'behaved': 3591, 'soccer': 3592, 'sport': 3593, 'teams': 3594, 'remaining': 3595, 'pairing': 3596, 'utilizing': 3597, 'ecobee': 3598, 'phillip': 3599, 'scooped': 3600, 'ball': 3601, 'rcieved': 3602, 'mere': 3603, 'verbal': 3604, 'techno': 3605, 'knowledgable': 3606, 'hubbed': 3607, 'stump': 3608, 'admit': 3609, 'explored': 3610, 'refers': 3611, 'leisure': 3612, 'remedial': 3613, 'reconnect': 3614, 'false': 3615, 'ghost': 3616, 'ipdates': 3617, 'resolved': 3618, 'adapting': 3619, 'profiles': 3620, 'spins': 3621, 'handles': 3622, 'pets': 3623, 'regardless': 3624, 'layer': 3625, 'protection': 3626, 'bf': 3627, 'cousins': 3628, 'facts': 3629, 'touted': 3630, 'interferes': 3631, 'depth': 3632, 'fairness': 3633, 'advance': 3634, 'protocol': 3635, 'supports': 3636, 'upgrades': 3637, 'texts': 3638, 'necessity': 3639, 'commodity': 3640, 'doctor': 3641, 'medical': 3642, 'rides': 3643, 'hospitals': 3644, 'cue': 3645, 'nurses': 3646, 'aide': 3647, 'chocolate': 3648, 'affirm': 3649, 'jeff': 3650, 'allowing': 3651, 'disability': 3652, 'earn': 3653, 'ssdi': 3654, 'forecast': 3655, 'soaking': 3656, 'cursed': 3657, 'soaked': 3658, 'tec': 3659, 'complacated': 3660, 'verbalize': 3661, 'sirrius': 3662, 'dimming': 3663, 'scenes': 3664, 'tones': 3665, 'misled': 3666, 'explanation': 3667, 'throw': 3668, 'invest': 3669, 'shortcomings': 3670, 'fees': 3671, 'differ': 3672, 'steaming': 3673, 'skips': 3674, 'subscriptiondoes': 3675, 'audioapple': 3676, 'deviceoverall': 3677, 'philip': 3678, 'attempting': 3679, 'failed': 3680, 'watched': 3681, 'insanity': 3682, 'hr': 3683, 'mins': 3684, 'patience': 3685, 'shifting': 3686, 'mindset': 3687, 'kicking': 3688, 'locate': 3689, 'pray': 3690, 'successful': 3691, 'revise': 3692, 'odds': 3693, 'defuser': 3694, 'wasted': 3695, 'purchaser': 3696, 'expanded': 3697, 'noticeable': 3698, 'ends': 3699, 'unavailable': 3700, 'interrogated': 3701, 'originale': 3702, 'dimension': 3703, 'woofer': 3704, 'tweeter': 3705, 'pointed': 3706, 'sub': 3707, 'losing': 3708, 'edge': 3709, 'fw': 3710, 'inferior': 3711, 'rattling': 3712, 'vibrating': 3713, 'distorted': 3714, 'rattle': 3715, 'crackle': 3716, 'characteristics': 3717, 'assuming': 3718, 'classic': 3719, 'orchestra': 3720, 'screamig': 3721, 'carefully': 3722, 'click': 3723, 'sneaky': 3724, 'himself': 3725, 'keen': 3726, 'goodmorning': 3727, 'sang': 3728, 'lolol': 3729, 'educated': 3730, 'laughs': 3731, 'waits': 3732, 'hes': 3733, 'direction': 3734, 'placement': 3735, 'appealing': 3736, 'neighbors': 3737, 'adjusting': 3738, 'inconvenience': 3739, 'sturdy': 3740, 'grip': 3741, 'granite': 3742, 'rub': 3743, 'scent': 3744, 'tipping': 3745, 'assigned': 3746, 'shining': 3747, 'tony': 3748, 'stark': 3749, 'quote': 3750, 'ownership': 3751, 'lucky': 3752, 'taller': 3753, 'spin': 3754, 'researching': 3755, 'setups': 3756, 'ontrac': 3757, 'suck': 3758, 'smells': 3759, 'regularly': 3760, 'cycled': 3761, 'industry': 3762, 'continues': 3763, 'roll': 3764, 'em': 3765, 'grace': 3766, 'amplifier': 3767, 'driving': 3768, 'snell': 3769, 'clapper': 3770, 'ceilings': 3771, 'smartthings': 3772, 'eq': 3773, 'consistently': 3774, 'hmmm': 3775, 'senior': 3776, 'citizens': 3777, 'mobility': 3778, 'comments': 3779, 'sibling': 3780, 'versus': 3781, 'commanded': 3782, 'lifetime': 3783, 'approaching': 3784, 'hundreds': 3785, 'thousands': 3786, 'approximately': 3787, 'subpar': 3788, 'rarity': 3789, 'discourage': 3790, 'investing': 3791, 'ecosystem': 3792, 'holy': 3793, 'batman': 3794, 'jams': 3795, 'insanely': 3796, 'incorporated': 3797, 'dates': 3798, 'science': 3799, 'core': 3800, 'reminding': 3801, 'equalized': 3802, 'length': 3803, 'vacuum': 3804, 'replying': 3805, 'hassel': 3806, 'unsettling': 3807, 'repeats': 3808, 'obtrusive': 3809, 'coordinator': 3810, 'gameshow': 3811, 'orientation': 3812, 'engage': 3813, 'trainees': 3814, 'success': 3815, 'classes': 3816, 'filling': 3817, 'logitech': 3818, 'harmony': 3819, 'denon': 3820, 'av': 3821, 'receivers': 3822, 'consulting': 3823, 'sincerely': 3824, 'smartthing': 3825, 'transferring': 3826, 'initiate': 3827, 'zzzz': 3828, 'ideal': 3829, 'rebooting': 3830, 'attachment': 3831, 'loose': 3832, 'guilty': 3833, 'assume': 3834, 'oldest': 3835, 'mirroring': 3836, 'ummm': 3837, 'sever': 3838, 'agreement': 3839, 'expires': 3840, 'headphone': 3841, 'faster': 3842, 'darn': 3843, 'addons': 3844, 'lagging': 3845, 'confident': 3846, 'resemption': 3847, 'downfall': 3848, 'subscriptions': 3849, 'funciona': 3850, 'genial': 3851, 'june': 3852, 'crunchyroll': 3853, 'pep': 3854, 'overcoming': 3855, 'switching': 3856, 'programming': 3857, 'simplify': 3858, 'alexus': 3859, 'bet': 3860, 'doubtful': 3861, 'pluto': 3862, 'tubi': 3863, 'lyric': 3864, 'programing': 3865, 'supplied': 3866, 'mounted': 3867, 'platforms': 3868, 'vudu': 3869, 'voltage': 3870, 'typically': 3871, 'quiet': 3872, 'relay': 3873, 'canceling': 3874, 'satellite': 3875, 'alexis': 3876, 'bettter': 3877, 'relatively': 3878, 'fill': 3879, 'gap': 3880, 'ethernet': 3881, 'speeds': 3882, 'hiccups': 3883, 'ridiculously': 3884, 'prices': 3885, 'storage': 3886, 'downloading': 3887, 'upcoming': 3888, 'includes': 3889, 'nfl': 3890, 'troublesome': 3891, 'remains': 3892, 'electricity': 3893, 'luckily': 3894, 'directtv': 3895, 'woohoo': 3896, 'snap': 3897, 'feeling': 3898, 'inspired': 3899, 'gateway': 3900, 'typing': 3901, 'clips': 3902, 'opportunity': 3903, 'mi': 3904, 'similar': 3905, 'evening': 3906, 'season': 3907, 'bloods': 3908, 'csi': 3909, 'miami': 3910, 'optimum': 3911, 'suffolk': 3912, 'county': 3913, 'lovee': 3914, 'evrything': 3915, 'hahahaha': 3916, 'addicts': 3917, 'amazin': 3918, 'alots': 3919, 'traditional': 3920, 'rst': 3921, 'crashes': 3922, 'buffer': 3923, 'budget': 3924, 'maneuver': 3925, 'activation': 3926, 'ditched': 3927, 'unhappy': 3928, 'errors': 3929, 'crashing': 3930, 'endless': 3931, 'existent': 3932, 'sry': 3933, 'allowed': 3934, 'officially': 3935, 'hdm': 3936, 'bob': 3937, 'dylan': 3938, 'xbox': 3939, 'interruption': 3940, 'rewards': 3941, 'drive': 3942, 'singley': 3943, 'entry': 3944, 'inactivity': 3945, 'finish': 3946, 'arguments': 3947, 'logo': 3948, 'younger': 3949, 'ditch': 3950, 'charmed': 3951, 'forjust': 3952, 'clocking': 3953, 'mb': 3954, 'mandatory': 3955, 'final': 3956, 'upload': 3957, 'charlotte': 3958, 'nc': 3959, 'pur': 3960, 'nbc': 3961, 'abc': 3962, 'discounts': 3963, 'oriented': 3964, 'looses': 3965, 'closer': 3966, 'rare': 3967, 'occasion': 3968, 'thete': 3969, 'cave': 3970, 'las': 3971, 'pel': 3972, 'culas': 3973, 'tiene': 3974, 'pueden': 3975, 'cambiar': 3976, 'tulos': 3977, 'element': 3978, 'maddening': 3979, 'disconnections': 3980, 'inclusive': 3981, 'hdmi': 3982, 'ni': 3983, 'hbo': 3984, 'showtime': 3985, 'onetime': 3986, 'procedure': 3987, 'tge': 3988, 'hauler': 3989, 'commercials': 3990, 'livingroom': 3991, 'semi': 3992, 'reviewing': 3993, 'factory': 3994, 'abd': 3995, 'scratch': 3996, 'traveling': 3997, 'ban': 3998, 'installs': 3999, 'spaces': 4000}\n"
     ]
    }
   ],
   "source": [
    "# tensorflow tokenizer\n",
    "NUM_WORDS = 1500\n",
    "tokenizer = Tokenizer(num_words=NUM_WORDS)\n",
    "tokenizer.fit_on_texts(df['reviews'])\n",
    "\n",
    "\n",
    "print(tokenizer.word_index)\n"
   ]
  },
  {
   "cell_type": "code",
   "execution_count": 95,
   "id": "c2e504e2",
   "metadata": {
    "scrolled": true
   },
   "outputs": [],
   "source": [
    "#removing stopwords\n",
    "for i in range (len(revs)):\n",
    "    for j in revs[i]:\n",
    "        if j in stopwords.words('english'):\n",
    "            revs[i].remove(j)\n",
    "\n",
    "df['reviews']=revs "
   ]
  },
  {
   "cell_type": "code",
   "execution_count": 106,
   "id": "1e486092",
   "metadata": {},
   "outputs": [],
   "source": [
    "stemmer = PorterStemmer()\n",
    "for rev in df['reviews']:\n",
    "    for w in range (len(rev)):\n",
    "         rev[w] = stem\n"
   ]
  },
  {
   "cell_type": "code",
   "execution_count": 107,
   "id": "ff20d7a9",
   "metadata": {},
   "outputs": [
    {
     "data": {
      "text/html": [
       "<div>\n",
       "<style scoped>\n",
       "    .dataframe tbody tr th:only-of-type {\n",
       "        vertical-align: middle;\n",
       "    }\n",
       "\n",
       "    .dataframe tbody tr th {\n",
       "        vertical-align: top;\n",
       "    }\n",
       "\n",
       "    .dataframe thead th {\n",
       "        text-align: right;\n",
       "    }\n",
       "</style>\n",
       "<table border=\"1\" class=\"dataframe\">\n",
       "  <thead>\n",
       "    <tr style=\"text-align: right;\">\n",
       "      <th></th>\n",
       "      <th>reviews</th>\n",
       "      <th>sentiment</th>\n",
       "    </tr>\n",
       "  </thead>\n",
       "  <tbody>\n",
       "    <tr>\n",
       "      <th>0</th>\n",
       "      <td>[love, echo]</td>\n",
       "      <td>1</td>\n",
       "    </tr>\n",
       "    <tr>\n",
       "      <th>1</th>\n",
       "      <td>[loved]</td>\n",
       "      <td>1</td>\n",
       "    </tr>\n",
       "    <tr>\n",
       "      <th>2</th>\n",
       "      <td>[sometimes, playing, game, can, answer, questi...</td>\n",
       "      <td>1</td>\n",
       "    </tr>\n",
       "    <tr>\n",
       "      <th>3</th>\n",
       "      <td>[have, a, lot, fun, this, thing, yr, old, lear...</td>\n",
       "      <td>1</td>\n",
       "    </tr>\n",
       "    <tr>\n",
       "      <th>4</th>\n",
       "      <td>[music]</td>\n",
       "      <td>1</td>\n",
       "    </tr>\n",
       "  </tbody>\n",
       "</table>\n",
       "</div>"
      ],
      "text/plain": [
       "                                             reviews  sentiment\n",
       "0                                       [love, echo]          1\n",
       "1                                            [loved]          1\n",
       "2  [sometimes, playing, game, can, answer, questi...          1\n",
       "3  [have, a, lot, fun, this, thing, yr, old, lear...          1\n",
       "4                                            [music]          1"
      ]
     },
     "execution_count": 107,
     "metadata": {},
     "output_type": "execute_result"
    }
   ],
   "source": [
    "df.head()"
   ]
  },
  {
   "cell_type": "code",
   "execution_count": null,
   "id": "eb33fe80",
   "metadata": {},
   "outputs": [],
   "source": []
  }
 ],
 "metadata": {
  "kernelspec": {
   "display_name": "tfEnv",
   "language": "python",
   "name": "python3"
  },
  "language_info": {
   "codemirror_mode": {
    "name": "ipython",
    "version": 3
   },
   "file_extension": ".py",
   "mimetype": "text/x-python",
   "name": "python",
   "nbconvert_exporter": "python",
   "pygments_lexer": "ipython3",
   "version": "3.10.8"
  },
  "vscode": {
   "interpreter": {
    "hash": "4d876c5bb35f184252b459e5b250e113208a4c46a2a8c23a0e8102fd40a28d3a"
   }
  }
 },
 "nbformat": 4,
 "nbformat_minor": 5
}
